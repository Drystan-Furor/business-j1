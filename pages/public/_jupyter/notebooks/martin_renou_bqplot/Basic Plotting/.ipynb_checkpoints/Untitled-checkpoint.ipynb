{
 "cells": [
  {
   "cell_type": "markdown",
   "id": "057775dd",
   "metadata": {},
   "source": [
    "## Mathplot Circle plot\n"
   ]
  },
  {
   "cell_type": "code",
   "execution_count": 43,
   "id": "2179cfde",
   "metadata": {},
   "outputs": [
    {
     "data": {
      "image/png": "[encoded data removed]",
      "text/plain": [
       "<Figure size 432x288 with 1 Axes>"
      ]
     },
     "metadata": {
      "needs_background": "light"
     },
     "output_type": "display_data"
    }
   ],
   "source": [
    "import matplotlib.pyplot as plt \n",
    " \n",
    "figure, axes = plt.subplots() \n",
    "cc = plt.Circle(( 0.5 , 0.5 ), 0.4 ) \n",
    " \n",
    "axes.set_aspect( 1 ) \n",
    "axes.add_artist( cc ) \n",
    "plt.title( 'Colored Circle' )\n",
    "\n",
    "# plt.axis('off')\n",
    "\n",
    "plt.show()"
   ]
  },
  {
   "cell_type": "markdown",
   "id": "1d1e5d91",
   "metadata": {},
   "source": [
    "## Mathplot Line plot\n"
   ]
  },
  {
   "cell_type": "code",
   "execution_count": 44,
   "id": "d834c0aa",
   "metadata": {},
   "outputs": [
    {
     "data": {
      "application/vnd.jupyter.widget-view+json": {
       "model_id": "9f0bd1f1f4804580b55c7b42f14249fa",
       "version_major": 2,
       "version_minor": 0
      },
      "text/plain": [
       "Figure(axes=[Axis(label='Test X', scale=LinearScale(), tick_format='0.0f'), Axis(label='Test Y', orientation='…"
      ]
     },
     "metadata": {},
     "output_type": "display_data"
    }
   ],
   "source": [
    "from bqplot import *\n",
    "from IPython.display import display\n",
    "\n",
    "x_data = range(10)\n",
    "y_data = [i ** 2 for i in x_data]\n",
    "\n",
    "x_sc = LinearScale()\n",
    "y_sc = LinearScale()\n",
    "\n",
    "ax_x = Axis(label='Test X', scale=x_sc, tick_format='0.0f')\n",
    "ax_y = Axis(label='Test Y', scale=y_sc,\n",
    "            orientation='vertical', tick_format='0.2f')\n",
    "\n",
    "line = Lines(x=x_data,\n",
    "             y=y_data,\n",
    "             scales={'x': x_sc, 'y': y_sc},\n",
    "             colors=['red', 'yellow'])\n",
    "\n",
    "fig = Figure(axes=[ax_x, ax_y], marks=[line])\n",
    "\n",
    "display(fig)"
   ]
  },
  {
   "cell_type": "markdown",
   "id": "c9531f15",
   "metadata": {},
   "source": [
    "## BQ Line Plot\n",
    "\n",
    "`bqplot` is an interactive plotting library. Attributes of plots can be updated in place without recreating the whole figure and marks. Let's look at idiomatic ways of updating plots in `bqplot`\n"
   ]
  },
  {
   "cell_type": "code",
   "execution_count": 45,
   "id": "458d6b05",
   "metadata": {},
   "outputs": [],
   "source": [
    "import numpy as np\n",
    "import bqplot.pyplot as plt\n",
    "\n",
    "# Jupyter Specifics\n",
    "#\n",
    "from IPython.display import HTML\n",
    "from ipywidgets.widgets import interact, IntSlider, FloatSlider, Dropdown, Layout"
   ]
  },
  {
   "cell_type": "code",
   "execution_count": 46,
   "id": "e4ba905e",
   "metadata": {},
   "outputs": [
    {
     "data": {
      "application/vnd.jupyter.widget-view+json": {
       "model_id": "37e7c6aa1042438c81f45e5957084ed5",
       "version_major": 2,
       "version_minor": 0
      },
      "text/plain": [
       "Figure(axes=[Axis(scale=LinearScale()), Axis(orientation='vertical', scale=LinearScale())], fig_margin={'top':…"
      ]
     },
     "metadata": {},
     "output_type": "display_data"
    }
   ],
   "source": [
    "x = np.linspace(-10, 10, 100)\n",
    "y = np.sin(x)\n",
    "\n",
    "fig = plt.figure()\n",
    "line = plt.plot(x=x, y=y)\n",
    "\n",
    "fig"
   ]
  },
  {
   "cell_type": "markdown",
   "id": "63563daf",
   "metadata": {},
   "source": [
    "## BQ Circle plot"
   ]
  },
  {
   "cell_type": "code",
   "execution_count": 20,
   "id": "ec70f43c",
   "metadata": {},
   "outputs": [],
   "source": [
    "def points_arround_circle(number=100, center=(0,0), radius=1):\n",
    "    theta = np.linspace(0, 2 * np.pi - (2 * np.pi / number), number)\n",
    "    x = radius * np.cos(theta)\n",
    "    y = radius * np.sin(theta)\n",
    "    return (x, y)"
   ]
  },
  {
   "cell_type": "code",
   "execution_count": 21,
   "id": "c5880385",
   "metadata": {},
   "outputs": [],
   "source": [
    "def get_lines_from_points(x, y, factor, animated=None):\n",
    "    limit = len(x)\n",
    "    if animated is not None:\n",
    "        for i in range(limit):\n",
    "            x_range = (x[i], x[int(i * factor) % limit])\n",
    "            y_range = (y[i], y[int(i * factor) % limit])\n",
    "            yield mlines.Line2D(x_range, y_range)\n",
    "    else:\n",
    "        for i in range(limit):\n",
    "            start = (x[i], y[i])\n",
    "            index = int((i * factor) % limit)\n",
    "            end = (x[index], y[index])          \n",
    "            yield end, start"
   ]
  },
  {
   "cell_type": "code",
   "execution_count": 22,
   "id": "b4fad2a1",
   "metadata": {},
   "outputs": [],
   "source": [
    "def plot_circle_points(x, y, ax, labels=None):\n",
    "    # ax.annotate(\"Points: {}\".format(len(x)), (0.8, 0.9))\n",
    "    ax.plot(x, y, \"-ko\", markevery=1)\n",
    "    if not labels is None:\n",
    "        for i, (x, y) in enumerate(zip(x, y)):\n",
    "            ax.annotate(i, (x, y))"
   ]
  },
  {
   "cell_type": "code",
   "execution_count": 23,
   "id": "a6695f90",
   "metadata": {},
   "outputs": [],
   "source": [
    "def plot_lines(x, y, factor, ax, color=None):\n",
    "    # ax.annotate(\"Factor: {}\".format(factor), (0.8, 1))\n",
    "    lines = list(get_lines_from_points(x, y, factor))\n",
    "    if color is None:\n",
    "        line_segments = LineCollection(lines)\n",
    "    else:\n",
    "        line_segments = LineCollection(lines, colors=colorsys.hsv_to_rgb(color, 1.0, 0.8))\n",
    "            \n",
    "    ax.add_collection(line_segments)"
   ]
  },
  {
   "cell_type": "code",
   "execution_count": 35,
   "id": "1555414a",
   "metadata": {},
   "outputs": [
    {
     "data": {
      "application/vnd.jupyter.widget-view+json": {
       "model_id": "bb29b8db39a7401bae8e5856d8518689",
       "version_major": 2,
       "version_minor": 0
      },
      "text/plain": [
       "Figure(axes=[Axis(color='white', grid_lines='none', label='Test X', num_ticks=0, scale=LinearScale(), tick_for…"
      ]
     },
     "metadata": {},
     "output_type": "display_data"
    }
   ],
   "source": [
    "import numpy as np\n",
    "\n",
    "from IPython.display import HTML\n",
    "from ipywidgets.widgets import interact, IntSlider, FloatSlider, Dropdown, Layout\n",
    "\n",
    "from bqplot import *\n",
    "from IPython.display import display\n",
    "\n",
    "Points=10\n",
    "\n",
    "x_sc = LinearScale()\n",
    "y_sc = LinearScale()\n",
    "\n",
    "ax_x = Axis(label='Test X', scale=x_sc, tick_format='0.0f')\n",
    "ax_y = Axis(label='Test Y', scale=y_sc,\n",
    "            orientation='vertical', tick_format='0.2f')\n",
    "\n",
    "x_data, y_data = points_arround_circle(number=Points)\n",
    "# plot_circle_points(x_data, y_data, ax_y)\n",
    "\n",
    "Factor = 10\n",
    "# plot_lines(x_data, y_data, Factor, ax_x)\n",
    "\n",
    "line = Lines(x=x_data,\n",
    "             y=y_data,\n",
    "             scales={'x': x_sc, 'y': y_sc},\n",
    "             colors=['red', 'yellow'])\n",
    "\n",
    "fig = Figure(axes=[ax_x, ax_y], marks=[line])\n",
    "\n",
    "# figsize: width|height recalculated from inches to pixels\n",
    "fig.layout.width = '500px'\n",
    "fig.layout.height = '500px'\n",
    "\n",
    "# Removing axes and background gridlines\n",
    "ax_x.grid_lines = \"none\"\n",
    "ax_y.grid_lines = \"none\"\n",
    "\n",
    "ax_x.color = \"white\"\n",
    "ax_y.color = \"white\"\n",
    "\n",
    "ax_x.num_ticks = 0\n",
    "ax_y.num_ticks = 0\n",
    "\n",
    "display(fig)"
   ]
  }
 ],
 "metadata": {
  "kernelspec": {
   "display_name": "Python 3 (ipykernel)",
   "language": "python",
   "name": "python3"
  },
  "language_info": {
   "codemirror_mode": {
    "name": "ipython",
    "version": 3
   },
   "file_extension": ".py",
   "mimetype": "text/x-python",
   "name": "python",
   "nbconvert_exporter": "python",
   "pygments_lexer": "ipython3",
   "version": "3.7.9"
  }
 },
 "nbformat": 4,
 "nbformat_minor": 5
}
