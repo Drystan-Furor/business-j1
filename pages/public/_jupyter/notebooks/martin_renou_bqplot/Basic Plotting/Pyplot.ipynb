{
 "cells": [
  {
   "cell_type": "code",
   "execution_count": 1,
   "metadata": {},
   "outputs": [],
   "source": [
    "from __future__ import print_function\n",
    "import ipywidgets as widgets\n",
    "from bqplot import pyplot as plt\n",
    "from bqplot import topo_load\n",
    "from bqplot.interacts import panzoom\n",
    "import numpy as np\n",
    "import pandas as pd\n",
    "import datetime as dt"
   ]
  },
  {
   "cell_type": "code",
   "execution_count": 2,
   "metadata": {},
   "outputs": [],
   "source": [
    "# initializing data to be plotted\n",
    "np.random.seed(0)\n",
    "size = 100\n",
    "y_data = np.cumsum(np.random.randn(size) * 100.0)\n",
    "y_data_2 = np.cumsum(np.random.randn(size))\n",
    "y_data_3 = np.cumsum(np.random.randn(size) * 100.0)\n",
    "\n",
    "x = np.linspace(0.0, 10.0, size)"
   ]
  },
  {
   "cell_type": "code",
   "execution_count": 3,
   "metadata": {},
   "outputs": [],
   "source": [
    "price_data = pd.DataFrame(\n",
    "    np.cumsum(np.random.randn(150, 2).dot([[0.5, 0.8], [0.8, 1.0]]), axis=0) + 100,\n",
    "    columns=[\"Security 1\", \"Security 2\"],\n",
    "    index=pd.date_range(start=\"01-01-2007\", periods=150),\n",
    ")\n",
    "\n",
    "symbol = \"Security 1\"\n",
    "dates_all = price_data.index.values\n",
    "final_prices = price_data[symbol].values.flatten()"
   ]
  },
  {
   "cell_type": "code",
   "execution_count": 4,
   "metadata": {},
   "outputs": [],
   "source": [
    "price_data.index.names = [\"date\"]"
   ]
  },
  {
   "cell_type": "markdown",
   "metadata": {},
   "source": [
    "## Simple Plots"
   ]
  },
  {
   "cell_type": "markdown",
   "metadata": {},
   "source": [
    "### Line Chart"
   ]
  },
  {
   "cell_type": "code",
   "execution_count": 5,
   "metadata": {},
   "outputs": [
    {
     "data": {
      "application/vnd.jupyter.widget-view+json": {
       "model_id": "55d3841b437d4a578b53eefc8546223b",
       "version_major": 2,
       "version_minor": 0
      },
      "text/plain": [
       "VBox(children=(Figure(axes=[Axis(label='Time', scale=LinearScale()), Axis(orientation='vertical', scale=Linear…"
      ]
     },
     "metadata": {},
     "output_type": "display_data"
    }
   ],
   "source": [
    "plt.figure()\n",
    "plt.plot(x, y_data)\n",
    "plt.xlabel(\"Time\")\n",
    "plt.show()"
   ]
  },
  {
   "cell_type": "code",
   "execution_count": 6,
   "metadata": {},
   "outputs": [],
   "source": [
    "_ = plt.ylabel(\"Stock Price\")"
   ]
  },
  {
   "cell_type": "code",
   "execution_count": 7,
   "metadata": {},
   "outputs": [],
   "source": [
    "# Setting the title for the current figure\n",
    "plt.title(\"Brownian Increments\")"
   ]
  },
  {
   "cell_type": "code",
   "execution_count": 8,
   "metadata": {},
   "outputs": [
    {
     "data": {
      "application/vnd.jupyter.widget-view+json": {
       "model_id": "67ae65dce27047c98df6ac3f9a7e16c8",
       "version_major": 2,
       "version_minor": 0
      },
      "text/plain": [
       "VBox(children=(Figure(axes=[Axis(scale=DateScale()), Axis(orientation='vertical', scale=LinearScale())], fig_m…"
      ]
     },
     "metadata": {},
     "output_type": "display_data"
    }
   ],
   "source": [
    "plt.figure()\n",
    "plt.plot(\"Security 1\", data=price_data)\n",
    "plt.show()"
   ]
  },
  {
   "cell_type": "markdown",
   "metadata": {},
   "source": [
    "### Scatter Plot"
   ]
  },
  {
   "cell_type": "code",
   "execution_count": 9,
   "metadata": {},
   "outputs": [
    {
     "data": {
      "application/vnd.jupyter.widget-view+json": {
       "model_id": "b8910107322848bb97ee8aae17d60ba8",
       "version_major": 2,
       "version_minor": 0
      },
      "text/plain": [
       "VBox(children=(Figure(axes=[ColorAxis(scale=ColorScale()), Axis(scale=LinearScale()), Axis(orientation='vertic…"
      ]
     },
     "metadata": {},
     "output_type": "display_data"
    }
   ],
   "source": [
    "plt.figure(title=\"Scatter Plot with colors\")\n",
    "plt.scatter(y_data_2, y_data_3, color=y_data, stroke=\"black\")\n",
    "plt.show()"
   ]
  },
  {
   "cell_type": "markdown",
   "metadata": {},
   "source": [
    "### Horizontal and Vertical Lines"
   ]
  },
  {
   "cell_type": "code",
   "execution_count": 10,
   "metadata": {},
   "outputs": [
    {
     "data": {
      "application/vnd.jupyter.widget-view+json": {
       "model_id": "89b11165e1bf44f59f5b0107714cb410",
       "version_major": 2,
       "version_minor": 0
      },
      "text/plain": [
       "VBox(children=(Figure(axes=[ColorAxis(scale=ColorScale()), Axis(scale=LinearScale()), Axis(orientation='vertic…"
      ]
     },
     "metadata": {},
     "output_type": "display_data"
    }
   ],
   "source": [
    "## adding a horizontal line at y=0\n",
    "plt.hline(0)\n",
    "plt.show()"
   ]
  },
  {
   "cell_type": "code",
   "execution_count": 11,
   "metadata": {},
   "outputs": [
    {
     "data": {
      "application/vnd.jupyter.widget-view+json": {
       "model_id": "9b2615cd92cf4449a780a9a16d95ba06",
       "version_major": 2,
       "version_minor": 0
      },
      "text/plain": [
       "VBox(children=(Figure(axes=[ColorAxis(scale=ColorScale()), Axis(scale=LinearScale()), Axis(orientation='vertic…"
      ]
     },
     "metadata": {},
     "output_type": "display_data"
    }
   ],
   "source": [
    "## adding a vertical line at x=4 with stroke_width and colors being passed.\n",
    "plt.vline(4.0, stroke_width=2, colors=[\"orangered\"])\n",
    "plt.show()"
   ]
  },
  {
   "cell_type": "code",
   "execution_count": 12,
   "metadata": {},
   "outputs": [
    {
     "data": {
      "application/vnd.jupyter.widget-view+json": {
       "model_id": "bf1750db1e214395ba09ffc3504e0c65",
       "version_major": 2,
       "version_minor": 0
      },
      "text/plain": [
       "VBox(children=(Figure(axes=[ColorAxis(scale=DateColorScale()), Axis(scale=LinearScale()), Axis(orientation='ve…"
      ]
     },
     "metadata": {},
     "output_type": "display_data"
    }
   ],
   "source": [
    "plt.figure()\n",
    "plt.scatter(\n",
    "    \"Security 1\",\n",
    "    \"Security 2\",\n",
    "    color=\"date\",\n",
    "    data=price_data.reset_index(),\n",
    "    stroke=\"black\",\n",
    ")\n",
    "plt.show()"
   ]
  },
  {
   "cell_type": "markdown",
   "metadata": {},
   "source": [
    "### Histogram"
   ]
  },
  {
   "cell_type": "code",
   "execution_count": 13,
   "metadata": {},
   "outputs": [
    {
     "data": {
      "application/vnd.jupyter.widget-view+json": {
       "model_id": "192e9b2f99414541a27a4813201a8149",
       "version_major": 2,
       "version_minor": 0
      },
      "text/plain": [
       "VBox(children=(Figure(axes=[Axis(orientation='vertical', scale=LinearScale()), Axis(scale=LinearScale())], fig…"
      ]
     },
     "metadata": {},
     "output_type": "display_data"
    }
   ],
   "source": [
    "plt.figure()\n",
    "plt.hist(y_data, colors=[\"OrangeRed\"])\n",
    "plt.show()"
   ]
  },
  {
   "cell_type": "code",
   "execution_count": 14,
   "metadata": {},
   "outputs": [
    {
     "data": {
      "application/vnd.jupyter.widget-view+json": {
       "model_id": "3f1d804f49914964898cccb26e54f35d",
       "version_major": 2,
       "version_minor": 0
      },
      "text/plain": [
       "VBox(children=(Figure(axes=[Axis(orientation='vertical', scale=LinearScale()), Axis(scale=LinearScale())], fig…"
      ]
     },
     "metadata": {},
     "output_type": "display_data"
    }
   ],
   "source": [
    "plt.figure()\n",
    "plt.hist(\"Security 1\", data=price_data, colors=[\"MediumSeaGreen\"])\n",
    "plt.xlabel(\"Hello\")\n",
    "plt.show()"
   ]
  },
  {
   "cell_type": "markdown",
   "metadata": {},
   "source": [
    "### Bar Chart"
   ]
  },
  {
   "cell_type": "code",
   "execution_count": 15,
   "metadata": {},
   "outputs": [
    {
     "data": {
      "application/vnd.jupyter.widget-view+json": {
       "model_id": "ee614456a34e40718ddd9df5e4b4bc03",
       "version_major": 2,
       "version_minor": 0
      },
      "text/plain": [
       "VBox(children=(Figure(axes=[Axis(scale=OrdinalScale()), Axis(orientation='vertical', scale=LinearScale())], fi…"
      ]
     },
     "metadata": {},
     "output_type": "display_data"
    }
   ],
   "source": [
    "plt.figure()\n",
    "bar_x = [\n",
    "    \"A\",\n",
    "    \"B\",\n",
    "    \"C\",\n",
    "    \"D\",\n",
    "    \"E\",\n",
    "    \"F\",\n",
    "    \"G\",\n",
    "    \"H\",\n",
    "    \"I\",\n",
    "    \"J\",\n",
    "    \"K\",\n",
    "    \"L\",\n",
    "    \"M\",\n",
    "    \"N\",\n",
    "    \"P\",\n",
    "    \"Q\",\n",
    "    \"R\",\n",
    "    \"S\",\n",
    "    \"T\",\n",
    "    \"U\",\n",
    "]\n",
    "plt.bar(bar_x, y_data_3)\n",
    "plt.show()"
   ]
  },
  {
   "cell_type": "code",
   "execution_count": 16,
   "metadata": {},
   "outputs": [
    {
     "data": {
      "application/vnd.jupyter.widget-view+json": {
       "model_id": "065d430132b74d13bb3a43b49a15c1b5",
       "version_major": 2,
       "version_minor": 0
      },
      "text/plain": [
       "VBox(children=(Figure(axes=[Axis(scale=DateScale()), Axis(orientation='vertical', scale=LinearScale())], fig_m…"
      ]
     },
     "metadata": {},
     "output_type": "display_data"
    }
   ],
   "source": [
    "plt.figure()\n",
    "plt.bar(\"date\", \"Security 2\", data=price_data.reset_index()[:10])\n",
    "plt.show()"
   ]
  },
  {
   "cell_type": "markdown",
   "metadata": {},
   "source": [
    "### Pie Chart"
   ]
  },
  {
   "cell_type": "code",
   "execution_count": 17,
   "metadata": {},
   "outputs": [
    {
     "data": {
      "application/vnd.jupyter.widget-view+json": {
       "model_id": "ea8faa5beeeb4c6191217bcb7e1fb03b",
       "version_major": 2,
       "version_minor": 0
      },
      "text/plain": [
       "VBox(children=(Figure(fig_margin={'top': 60, 'bottom': 60, 'left': 60, 'right': 60}, marks=[Pie(colors=['#1f77…"
      ]
     },
     "metadata": {},
     "output_type": "display_data"
    }
   ],
   "source": [
    "plt.figure()\n",
    "d = abs(y_data_2[:5])\n",
    "plt.pie(d)\n",
    "plt.show()"
   ]
  },
  {
   "cell_type": "code",
   "execution_count": 18,
   "metadata": {},
   "outputs": [
    {
     "data": {
      "application/vnd.jupyter.widget-view+json": {
       "model_id": "323d29ae8fc9447caf63e100832379a7",
       "version_major": 2,
       "version_minor": 0
      },
      "text/plain": [
       "VBox(children=(Figure(axes=[ColorAxis(scale=ColorScale())], fig_margin={'top': 60, 'bottom': 60, 'left': 60, '…"
      ]
     },
     "metadata": {},
     "output_type": "display_data"
    }
   ],
   "source": [
    "plt.figure()\n",
    "plt.pie(\"Security 2\", color=\"Security 1\", data=price_data[:4])\n",
    "plt.show()"
   ]
  },
  {
   "cell_type": "markdown",
   "metadata": {},
   "source": [
    "### OHLC"
   ]
  },
  {
   "cell_type": "code",
   "execution_count": 19,
   "metadata": {},
   "outputs": [
    {
     "data": {
      "application/vnd.jupyter.widget-view+json": {
       "model_id": "2ecaaad83f7e4a0d9f474772accdad06",
       "version_major": 2,
       "version_minor": 0
      },
      "text/plain": [
       "VBox(children=(Figure(axes=[Axis(scale=DateScale()), Axis(orientation='vertical', scale=LinearScale())], fig_m…"
      ]
     },
     "metadata": {},
     "output_type": "display_data"
    }
   ],
   "source": [
    "dates = np.arange(\n",
    "    dt.datetime(2014, 1, 2), dt.datetime(2014, 1, 30), dt.timedelta(days=1)\n",
    ")\n",
    "\n",
    "prices = np.array(\n",
    "    [\n",
    "        [187.21, 187.4, 185.2, 185.53],\n",
    "        [185.83, 187.35, 185.3, 186.64],\n",
    "        [187.15, 187.355, 185.3, 186.0],\n",
    "        [186.39, 190.35, 186.38, 189.71],\n",
    "        [189.33, 189.4175, 187.26, 187.97],\n",
    "        [189.02, 189.5, 186.55, 187.38],\n",
    "        [188.31, 188.57, 186.28, 187.26],\n",
    "        [186.26, 186.95, 183.86, 184.16],\n",
    "        [185.06, 186.428, 183.8818, 185.92],\n",
    "        [185.82, 188.65, 185.49, 187.74],\n",
    "        [187.53, 188.99, 186.8, 188.76],\n",
    "        [188.04, 190.81, 187.86, 190.09],\n",
    "        [190.23, 190.39, 186.79, 188.43],\n",
    "        [181.28, 183.5, 179.67, 182.25],\n",
    "        [181.43, 183.72, 180.71, 182.73],\n",
    "        [181.25, 182.8141, 179.64, 179.64],\n",
    "        [179.605, 179.65, 177.66, 177.9],\n",
    "        [178.05, 178.45, 176.16, 176.85],\n",
    "        [175.98, 178.53, 175.89, 176.4],\n",
    "        [177.17, 177.86, 176.36, 177.36],\n",
    "    ]\n",
    ")\n",
    "\n",
    "plt.figure()\n",
    "plt.ohlc(dates, prices)\n",
    "plt.show()"
   ]
  },
  {
   "cell_type": "markdown",
   "metadata": {},
   "source": [
    "### Boxplot"
   ]
  },
  {
   "cell_type": "code",
   "execution_count": 20,
   "metadata": {},
   "outputs": [
    {
     "data": {
      "application/vnd.jupyter.widget-view+json": {
       "model_id": "6abde0769f9f44639bda46616528a4e6",
       "version_major": 2,
       "version_minor": 0
      },
      "text/plain": [
       "VBox(children=(Figure(axes=[Axis(scale=LinearScale()), Axis(orientation='vertical', scale=LinearScale())], fig…"
      ]
     },
     "metadata": {},
     "output_type": "display_data"
    }
   ],
   "source": [
    "plt.figure()\n",
    "plt.boxplot(np.arange(10), np.random.randn(10, 100))\n",
    "plt.show()"
   ]
  },
  {
   "cell_type": "markdown",
   "metadata": {},
   "source": [
    "### Map"
   ]
  },
  {
   "cell_type": "code",
   "execution_count": 21,
   "metadata": {},
   "outputs": [
    {
     "data": {
      "application/vnd.jupyter.widget-view+json": {
       "model_id": "cef9c1cdacc146db85039f75b656a7ce",
       "version_major": 2,
       "version_minor": 0
      },
      "text/plain": [
       "VBox(children=(Figure(fig_margin={'top': 60, 'bottom': 60, 'left': 60, 'right': 60}, marks=[Map(hovered_styles…"
      ]
     },
     "metadata": {},
     "output_type": "display_data"
    }
   ],
   "source": [
    "plt.figure()\n",
    "plt.geo(map_data=\"WorldMap\")\n",
    "plt.show()"
   ]
  },
  {
   "cell_type": "markdown",
   "metadata": {},
   "source": [
    "### Heatmap"
   ]
  },
  {
   "cell_type": "code",
   "execution_count": 22,
   "metadata": {},
   "outputs": [
    {
     "data": {
      "application/vnd.jupyter.widget-view+json": {
       "model_id": "decb696a378045dc8ad25163ae113de5",
       "version_major": 2,
       "version_minor": 0
      },
      "text/plain": [
       "VBox(children=(Figure(axes=[ColorAxis(scale=ColorScale()), Axis(scale=LinearScale()), Axis(orientation='vertic…"
      ]
     },
     "metadata": {},
     "output_type": "display_data"
    }
   ],
   "source": [
    "plt.figure(padding_y=0)\n",
    "plt.heatmap(x * x[:, np.newaxis])\n",
    "plt.show()"
   ]
  },
  {
   "cell_type": "markdown",
   "metadata": {},
   "source": [
    "### GridHeatMap"
   ]
  },
  {
   "cell_type": "code",
   "execution_count": 23,
   "metadata": {},
   "outputs": [
    {
     "data": {
      "application/vnd.jupyter.widget-view+json": {
       "model_id": "220ad6a6ae804d0b9e2b5df2059b62b3",
       "version_major": 2,
       "version_minor": 0
      },
      "text/plain": [
       "VBox(children=(Figure(axes=[ColorAxis(scale=ColorScale()), Axis(orientation='vertical', scale=OrdinalScale(rev…"
      ]
     },
     "metadata": {},
     "output_type": "display_data"
    }
   ],
   "source": [
    "plt.figure(padding_y=0)\n",
    "plt.gridheatmap(x[:10] * x[:10, np.newaxis])\n",
    "plt.show()"
   ]
  },
  {
   "cell_type": "markdown",
   "metadata": {},
   "source": [
    "### Plotting Dates"
   ]
  },
  {
   "cell_type": "code",
   "execution_count": 24,
   "metadata": {},
   "outputs": [
    {
     "data": {
      "application/vnd.jupyter.widget-view+json": {
       "model_id": "e2c54c1ae3634ffd8712dafb0cf942ae",
       "version_major": 2,
       "version_minor": 0
      },
      "text/plain": [
       "VBox(children=(Figure(axes=[Axis(scale=DateScale()), Axis(orientation='vertical', scale=LinearScale())], fig_m…"
      ]
     },
     "metadata": {},
     "output_type": "display_data"
    }
   ],
   "source": [
    "plt.figure()\n",
    "plt.plot(dates_all, final_prices)\n",
    "plt.show()"
   ]
  },
  {
   "cell_type": "markdown",
   "metadata": {},
   "source": [
    "### Editing existing axes properties"
   ]
  },
  {
   "cell_type": "code",
   "execution_count": 25,
   "metadata": {},
   "outputs": [],
   "source": [
    "## adding grid lines and changing the side of the axis in the figure above\n",
    "_ = plt.axes(\n",
    "    options={\n",
    "        \"x\": {\"grid_lines\": \"solid\"},\n",
    "        \"y\": {\"side\": \"right\", \"grid_lines\": \"dashed\"},\n",
    "    }\n",
    ")"
   ]
  },
  {
   "cell_type": "markdown",
   "metadata": {},
   "source": [
    "## Advanced Usage"
   ]
  },
  {
   "cell_type": "markdown",
   "metadata": {},
   "source": [
    "### Multiple Marks on the same Figure"
   ]
  },
  {
   "cell_type": "code",
   "execution_count": 26,
   "metadata": {},
   "outputs": [
    {
     "data": {
      "application/vnd.jupyter.widget-view+json": {
       "model_id": "5220e1d163d345dfb9e1a6d5d21b0ad4",
       "version_major": 2,
       "version_minor": 0
      },
      "text/plain": [
       "VBox(children=(Figure(axes=[Axis(scale=LinearScale()), Axis(orientation='vertical', scale=LinearScale())], fig…"
      ]
     },
     "metadata": {},
     "output_type": "display_data"
    }
   ],
   "source": [
    "plt.figure()\n",
    "plt.plot(x, y_data_3, colors=[\"orangered\"])\n",
    "plt.scatter(x, y_data, stroke=\"black\")\n",
    "plt.show()"
   ]
  },
  {
   "cell_type": "markdown",
   "metadata": {},
   "source": [
    "### Using marker strings in Line Chart"
   ]
  },
  {
   "cell_type": "code",
   "execution_count": 27,
   "metadata": {},
   "outputs": [
    {
     "data": {
      "application/vnd.jupyter.widget-view+json": {
       "model_id": "89c816f41ced4996b8358aaa02a45220",
       "version_major": 2,
       "version_minor": 0
      },
      "text/plain": [
       "VBox(children=(Figure(axes=[Axis(scale=LinearScale()), Axis(orientation='vertical', scale=LinearScale())], fig…"
      ]
     },
     "metadata": {},
     "output_type": "display_data"
    }
   ],
   "source": [
    "mark_x = np.arange(10)\n",
    "plt.figure(title=\"Using Marker Strings\")\n",
    "plt.plot(\n",
    "    mark_x, 3 * mark_x + 5, \"g-.s\"\n",
    ")  # color=green, line_style=dash_dotted, marker=square\n",
    "plt.plot(mark_x ** 2, \"m:d\")  # color=magenta, line_style=None, marker=diamond\n",
    "plt.show()"
   ]
  },
  {
   "cell_type": "markdown",
   "metadata": {
    "collapsed": true
   },
   "source": [
    "### Partially changing the scales"
   ]
  },
  {
   "cell_type": "code",
   "execution_count": 28,
   "metadata": {},
   "outputs": [
    {
     "data": {
      "application/vnd.jupyter.widget-view+json": {
       "model_id": "ac1b33cc845e4a83a408483da45bbe5e",
       "version_major": 2,
       "version_minor": 0
      },
      "text/plain": [
       "VBox(children=(Figure(axes=[Axis(scale=LinearScale()), Axis(orientation='vertical', scale=LinearScale()), Axis…"
      ]
     },
     "metadata": {},
     "output_type": "display_data"
    }
   ],
   "source": [
    "plt.figure()\n",
    "plt.plot(x, y_data)\n",
    "\n",
    "## preserving the x scale and changing the y scale\n",
    "plt.scales(scales={\"x\": plt.Keep})\n",
    "plt.plot(\n",
    "    x,\n",
    "    y_data_2,\n",
    "    colors=[\"orange\"],\n",
    "    axes_options={\"y\": {\"side\": \"right\", \"color\": \"orange\", \"grid_lines\": \"none\"}},\n",
    ")\n",
    "plt.show()"
   ]
  },
  {
   "cell_type": "markdown",
   "metadata": {},
   "source": [
    "### Adding a label to the chart"
   ]
  },
  {
   "cell_type": "code",
   "execution_count": 29,
   "metadata": {},
   "outputs": [
    {
     "data": {
      "application/vnd.jupyter.widget-view+json": {
       "model_id": "5fe726c70fd9458689f8fa0284d81d71",
       "version_major": 2,
       "version_minor": 0
      },
      "text/plain": [
       "VBox(children=(Figure(axes=[Axis(scale=DateScale()), Axis(orientation='vertical', scale=LinearScale())], fig_m…"
      ]
     },
     "metadata": {},
     "output_type": "display_data"
    }
   ],
   "source": [
    "plt.figure()\n",
    "line = plt.plot(dates_all, final_prices)\n",
    "plt.show()"
   ]
  },
  {
   "cell_type": "code",
   "execution_count": 30,
   "metadata": {},
   "outputs": [],
   "source": [
    "## adds the label to the figure created above\n",
    "_ = plt.label(\n",
    "    [\"Pie Day\"],\n",
    "    x=[np.datetime64(\"2007-03-14\")],\n",
    "    y=[final_prices.mean()],\n",
    "    scales=line.scales,\n",
    "    colors=[\"orangered\"],\n",
    ")"
   ]
  },
  {
   "cell_type": "markdown",
   "metadata": {},
   "source": [
    "### Changing context figure"
   ]
  },
  {
   "cell_type": "code",
   "execution_count": 31,
   "metadata": {},
   "outputs": [
    {
     "data": {
      "application/vnd.jupyter.widget-view+json": {
       "model_id": "7ad2ca9774904a3cae49cd4bb13f7a69",
       "version_major": 2,
       "version_minor": 0
      },
      "text/plain": [
       "VBox(children=(Figure(axes=[Axis(scale=LinearScale()), Axis(orientation='vertical', scale=LinearScale())], fig…"
      ]
     },
     "metadata": {},
     "output_type": "display_data"
    }
   ],
   "source": [
    "plt.figure(1)\n",
    "plt.plot(x, y_data_3)\n",
    "plt.show()"
   ]
  },
  {
   "cell_type": "code",
   "execution_count": 32,
   "metadata": {},
   "outputs": [
    {
     "data": {
      "application/vnd.jupyter.widget-view+json": {
       "model_id": "77f274f4ebb04f7a8ab25d64a28c5de4",
       "version_major": 2,
       "version_minor": 0
      },
      "text/plain": [
       "VBox(children=(Figure(axes=[Axis(scale=LinearScale()), Axis(orientation='vertical', scale=LinearScale())], fig…"
      ]
     },
     "metadata": {},
     "output_type": "display_data"
    }
   ],
   "source": [
    "plt.figure(2)\n",
    "plt.plot(x[:20], y_data_3[:20])\n",
    "plt.show()"
   ]
  },
  {
   "cell_type": "markdown",
   "metadata": {},
   "source": [
    "### Re-editing first figure"
   ]
  },
  {
   "cell_type": "code",
   "execution_count": 33,
   "metadata": {},
   "outputs": [
    {
     "data": {
      "application/vnd.jupyter.widget-view+json": {
       "model_id": "318ee435c1914888b905fd14ae595f15",
       "version_major": 2,
       "version_minor": 0
      },
      "text/plain": [
       "Figure(axes=[Axis(scale=LinearScale()), Axis(orientation='vertical', scale=LinearScale())], fig_margin={'top':…"
      ]
     },
     "metadata": {},
     "output_type": "display_data"
    }
   ],
   "source": [
    "## adds the new line to the first figure\n",
    "fig = plt.figure(1, title=\"New title\")\n",
    "plt.plot(x, y_data, colors=[\"orangered\"])\n",
    "fig"
   ]
  },
  {
   "cell_type": "markdown",
   "metadata": {},
   "source": [
    "### Viewing the properties of the figure"
   ]
  },
  {
   "cell_type": "code",
   "execution_count": 34,
   "metadata": {},
   "outputs": [
    {
     "data": {
      "text/plain": [
       "{'_model_module': 'bqplot',\n",
       " '_model_module_version': '^0.4.9',\n",
       " '_model_name': 'LinesModel',\n",
       " '_view_count': None,\n",
       " '_view_module': 'bqplot',\n",
       " '_view_module_version': '^0.4.9',\n",
       " '_view_name': 'Lines',\n",
       " 'apply_clip': True,\n",
       " 'close_path': False,\n",
       " 'color': {'values': None, 'type': None},\n",
       " 'colors': ['#1f77b4',\n",
       "  '#ff7f0e',\n",
       "  '#2ca02c',\n",
       "  '#d62728',\n",
       "  '#9467bd',\n",
       "  '#8c564b',\n",
       "  '#e377c2',\n",
       "  '#7f7f7f',\n",
       "  '#bcbd22',\n",
       "  '#17becf'],\n",
       " 'curves_subset': [],\n",
       " 'display_legend': False,\n",
       " 'enable_hover': True,\n",
       " 'fill': 'none',\n",
       " 'fill_colors': [],\n",
       " 'fill_opacities': [],\n",
       " 'interactions': {'hover': 'tooltip'},\n",
       " 'interpolation': 'linear',\n",
       " 'labels': [],\n",
       " 'labels_visibility': 'none',\n",
       " 'line_style': 'solid',\n",
       " 'marker': None,\n",
       " 'marker_size': 64,\n",
       " 'opacities': [],\n",
       " 'preserve_domain': {},\n",
       " 'scales': {'x': 'IPY_MODEL_c9ac27d958c24b95bb0b817f6c02ec08',\n",
       "  'y': 'IPY_MODEL_18ca3c1ae9864a2f8d2002fd6ab3685b'},\n",
       " 'scales_metadata': {'x': {'orientation': 'horizontal', 'dimension': 'x'},\n",
       "  'y': {'orientation': 'vertical', 'dimension': 'y'},\n",
       "  'color': {'dimension': 'color'}},\n",
       " 'selected': [],\n",
       " 'selected_style': {},\n",
       " 'stroke_width': 2.0,\n",
       " 'tooltip': None,\n",
       " 'tooltip_location': 'mouse',\n",
       " 'tooltip_style': {'opacity': 0.9},\n",
       " 'unselected_style': {},\n",
       " 'visible': True,\n",
       " 'x': {'values': [0.0,\n",
       "   0.10101010101010101,\n",
       "   0.20202020202020202,\n",
       "   0.30303030303030304,\n",
       "   0.40404040404040403,\n",
       "   0.5050505050505051,\n",
       "   0.6060606060606061,\n",
       "   0.7070707070707071,\n",
       "   0.8080808080808081,\n",
       "   0.9090909090909091,\n",
       "   1.0101010101010102,\n",
       "   1.1111111111111112,\n",
       "   1.2121212121212122,\n",
       "   1.3131313131313131,\n",
       "   1.4141414141414141,\n",
       "   1.5151515151515151,\n",
       "   1.6161616161616161,\n",
       "   1.7171717171717171,\n",
       "   1.8181818181818181,\n",
       "   1.9191919191919191,\n",
       "   2.0202020202020203,\n",
       "   2.121212121212121,\n",
       "   2.2222222222222223,\n",
       "   2.323232323232323,\n",
       "   2.4242424242424243,\n",
       "   2.525252525252525,\n",
       "   2.6262626262626263,\n",
       "   2.727272727272727,\n",
       "   2.8282828282828283,\n",
       "   2.929292929292929,\n",
       "   3.0303030303030303,\n",
       "   3.131313131313131,\n",
       "   3.2323232323232323,\n",
       "   3.3333333333333335,\n",
       "   3.4343434343434343,\n",
       "   3.5353535353535355,\n",
       "   3.6363636363636362,\n",
       "   3.7373737373737375,\n",
       "   3.8383838383838382,\n",
       "   3.9393939393939394,\n",
       "   4.040404040404041,\n",
       "   4.141414141414141,\n",
       "   4.242424242424242,\n",
       "   4.343434343434343,\n",
       "   4.444444444444445,\n",
       "   4.545454545454545,\n",
       "   4.646464646464646,\n",
       "   4.747474747474747,\n",
       "   4.848484848484849,\n",
       "   4.94949494949495,\n",
       "   5.05050505050505,\n",
       "   5.151515151515151,\n",
       "   5.252525252525253,\n",
       "   5.353535353535354,\n",
       "   5.454545454545454,\n",
       "   5.555555555555555,\n",
       "   5.656565656565657,\n",
       "   5.757575757575758,\n",
       "   5.858585858585858,\n",
       "   5.959595959595959,\n",
       "   6.0606060606060606,\n",
       "   6.161616161616162,\n",
       "   6.262626262626262,\n",
       "   6.363636363636363,\n",
       "   6.4646464646464645,\n",
       "   6.565656565656566,\n",
       "   6.666666666666667,\n",
       "   6.767676767676767,\n",
       "   6.8686868686868685,\n",
       "   6.96969696969697,\n",
       "   7.070707070707071,\n",
       "   7.171717171717171,\n",
       "   7.2727272727272725,\n",
       "   7.373737373737374,\n",
       "   7.474747474747475,\n",
       "   7.575757575757575,\n",
       "   7.6767676767676765,\n",
       "   7.777777777777778,\n",
       "   7.878787878787879,\n",
       "   7.979797979797979,\n",
       "   8.080808080808081,\n",
       "   8.181818181818182,\n",
       "   8.282828282828282,\n",
       "   8.383838383838384,\n",
       "   8.484848484848484,\n",
       "   8.585858585858587,\n",
       "   8.686868686868687,\n",
       "   8.787878787878787,\n",
       "   8.88888888888889,\n",
       "   8.98989898989899,\n",
       "   9.09090909090909,\n",
       "   9.191919191919192,\n",
       "   9.292929292929292,\n",
       "   9.393939393939394,\n",
       "   9.494949494949495,\n",
       "   9.595959595959595,\n",
       "   9.696969696969697,\n",
       "   9.797979797979798,\n",
       "   9.8989898989899,\n",
       "   10.0],\n",
       "  'type': 'float'},\n",
       " 'y': {'values': [-36.91818379424436,\n",
       "   -60.856101551837,\n",
       "   49.109858036874314,\n",
       "   114.6362311091341,\n",
       "   178.64938371889332,\n",
       "   16.95377928780988,\n",
       "   14.521166847916316,\n",
       "   -59.28192407265256,\n",
       "   -31.289464168328735,\n",
       "   -41.10450313262453,\n",
       "   49.91338767663467,\n",
       "   81.63520919576487,\n",
       "   160.2680054066625,\n",
       "   113.62609573306818,\n",
       "   19.18147014124314,\n",
       "   -21.823499179011705,\n",
       "   -23.525540565155765,\n",
       "   14.389632990352418,\n",
       "   240.32052805943763,\n",
       "   236.09481289337336,\n",
       "   140.50031284409567,\n",
       "   105.90213527415703,\n",
       "   59.54253780954761,\n",
       "   107.69068518689383,\n",
       "   -46.38901625756864,\n",
       "   -40.06281683753547,\n",
       "   -24.412163040997914,\n",
       "   -1.194059420970337,\n",
       "   -60.92566631750661,\n",
       "   -84.71783929110731,\n",
       "   -227.12393018936046,\n",
       "   -276.4559185255799,\n",
       "   -330.74206612725163,\n",
       "   -289.1370615011091,\n",
       "   -404.7553046833003,\n",
       "   -326.63549451230097,\n",
       "   -177.1870400631641,\n",
       "   -384.18554256451733,\n",
       "   -341.5596694867072,\n",
       "   -273.86886598368267,\n",
       "   -337.6125685389056,\n",
       "   -377.33974997178535,\n",
       "   -390.6278077304809,\n",
       "   -420.40689567065374,\n",
       "   -451.308192575366,\n",
       "   -618.9085732083636,\n",
       "   -503.67541673005155,\n",
       "   -395.7135575263694,\n",
       "   -477.0499834467897,\n",
       "   -623.6924162270411,\n",
       "   -571.5859285817653,\n",
       "   -629.1647255630719,\n",
       "   -614.969409230994,\n",
       "   -646.9022509455035,\n",
       "   -577.7483758384849,\n",
       "   -508.27346147288426,\n",
       "   -580.8331993192427,\n",
       "   -719.1695948587483,\n",
       "   -877.4634345922565,\n",
       "   -816.425496681536,\n",
       "   -935.3114224599389,\n",
       "   -985.9930578898076,\n",
       "   -1045.6244617348584,\n",
       "   -1050.881191361813,\n",
       "   -1244.5091719464638,\n",
       "   -1225.6313122670808,\n",
       "   -1173.2422098836603,\n",
       "   -1164.400001179194,\n",
       "   -1195.4886183490412,\n",
       "   -1185.748601722163,\n",
       "   -1145.8439671581498,\n",
       "   -1423.1032428008148,\n",
       "   -1227.5120119757453,\n",
       "   -1188.5026797069527,\n",
       "   -1253.7435379456547,\n",
       "   -1292.8388754644147,\n",
       "   -1243.4646977294958,\n",
       "   -1255.0750916329325,\n",
       "   -1458.1435384110819,\n",
       "   -1251.69425227515,\n",
       "   -1262.7483179983972,\n",
       "   -1160.7310468268172,\n",
       "   -1229.9360316052564,\n",
       "   -1076.2983261806767,\n",
       "   -1047.6639572914487,\n",
       "   -986.7795738439036,\n",
       "   -1091.3049104585991,\n",
       "   -970.1903814903291,\n",
       "   -901.2085650368502,\n",
       "   -771.0239420803504,\n",
       "   -833.8326980445082,\n",
       "   -881.935409890587,\n",
       "   -651.5437401221928,\n",
       "   -757.5453223943475,\n",
       "   -771.1402924621796,\n",
       "   -657.4511562019101,\n",
       "   -647.6786594304245,\n",
       "   -589.3832914550952,\n",
       "   -629.3281943813828,\n",
       "   -592.3226055966309],\n",
       "  'type': 'float'}}"
      ]
     },
     "execution_count": 34,
     "metadata": {},
     "output_type": "execute_result"
    }
   ],
   "source": [
    "marks = plt.current_figure().marks\n",
    "marks[0].get_state()"
   ]
  },
  {
   "cell_type": "markdown",
   "metadata": {},
   "source": [
    "### Showing a second view of the first figure"
   ]
  },
  {
   "cell_type": "code",
   "execution_count": 35,
   "metadata": {},
   "outputs": [
    {
     "data": {
      "application/vnd.jupyter.widget-view+json": {
       "model_id": "f75f4a30fbde49bab28e0c8c77531513",
       "version_major": 2,
       "version_minor": 0
      },
      "text/plain": [
       "VBox(children=(Figure(axes=[Axis(scale=LinearScale()), Axis(orientation='vertical', scale=LinearScale())], fig…"
      ]
     },
     "metadata": {},
     "output_type": "display_data"
    }
   ],
   "source": [
    "plt.show()"
   ]
  },
  {
   "cell_type": "markdown",
   "metadata": {},
   "source": [
    "### Clearing the figure"
   ]
  },
  {
   "cell_type": "code",
   "execution_count": 36,
   "metadata": {},
   "outputs": [],
   "source": [
    "### Clearing the figure above\n",
    "plt.clear()"
   ]
  },
  {
   "cell_type": "markdown",
   "metadata": {},
   "source": [
    "### Deleting a figure and all its views."
   ]
  },
  {
   "cell_type": "code",
   "execution_count": 37,
   "metadata": {},
   "outputs": [
    {
     "data": {
      "application/vnd.jupyter.widget-view+json": {
       "model_id": "d0ead56951764160b5c2e9c6603c9403",
       "version_major": 2,
       "version_minor": 0
      },
      "text/plain": [
       "VBox(children=(Figure(axes=[Axis(scale=LinearScale()), Axis(orientation='vertical', scale=LinearScale())], fig…"
      ]
     },
     "metadata": {},
     "output_type": "display_data"
    }
   ],
   "source": [
    "plt.show(2)"
   ]
  },
  {
   "cell_type": "code",
   "execution_count": 38,
   "metadata": {},
   "outputs": [],
   "source": [
    "plt.close(2)"
   ]
  },
  {
   "cell_type": "markdown",
   "metadata": {},
   "source": [
    "## Interactions in Pyplot"
   ]
  },
  {
   "cell_type": "markdown",
   "metadata": {},
   "source": [
    "### Brush Selector"
   ]
  },
  {
   "cell_type": "code",
   "execution_count": 39,
   "metadata": {},
   "outputs": [
    {
     "data": {
      "application/vnd.jupyter.widget-view+json": {
       "model_id": "14d5d308a54c418899688e8c8277c5d4",
       "version_major": 2,
       "version_minor": 0
      },
      "text/plain": [
       "VBox(children=(Figure(axes=[Axis(scale=LinearScale()), Axis(orientation='vertical', scale=LinearScale())], fig…"
      ]
     },
     "metadata": {},
     "output_type": "display_data"
    }
   ],
   "source": [
    "fig = plt.figure()\n",
    "plt.scatter(y_data_2, y_data_3, colors=[\"orange\"], stroke=\"black\")\n",
    "\n",
    "label = widgets.Label()\n",
    "\n",
    "\n",
    "def callback(name, value):\n",
    "    label.value = str(value)\n",
    "\n",
    "\n",
    "## click and drag on the figure to see the selector\n",
    "plt.brush_selector(callback)\n",
    "\n",
    "widgets.VBox([fig, label])"
   ]
  },
  {
   "cell_type": "markdown",
   "metadata": {},
   "source": [
    "### Fast Interval Selector"
   ]
  },
  {
   "cell_type": "code",
   "execution_count": 40,
   "metadata": {},
   "outputs": [
    {
     "data": {
      "application/vnd.jupyter.widget-view+json": {
       "model_id": "f1d871162b4542cf83cb5c3d2844a1fb",
       "version_major": 2,
       "version_minor": 0
      },
      "text/plain": [
       "VBox(children=(Figure(axes=[Axis(scale=LinearScale()), Axis(orientation='vertical', scale=LinearScale())], fig…"
      ]
     },
     "metadata": {},
     "output_type": "display_data"
    }
   ],
   "source": [
    "fig = plt.figure()\n",
    "n = 100\n",
    "plt.plot(np.arange(n), y_data_3)\n",
    "label = widgets.Label()\n",
    "\n",
    "\n",
    "def callback(name, value):\n",
    "    label.value = str(value)\n",
    "\n",
    "\n",
    "## click on the figure to activate the selector\n",
    "plt.int_selector(callback)\n",
    "\n",
    "widgets.VBox([fig, label])"
   ]
  },
  {
   "cell_type": "markdown",
   "metadata": {},
   "source": [
    "### Brush Interval Selector with call back on brushing"
   ]
  },
  {
   "cell_type": "code",
   "execution_count": 42,
   "metadata": {},
   "outputs": [],
   "source": [
    "# click and drag on chart to make a selection\n",
    "def callback(name, value):\n",
    "    label.value = \"Brushing: \" + str(value)\n",
    "\n",
    "\n",
    "_ = plt.brush_int_selector(callback, \"brushing\")"
   ]
  }
 ],
 "metadata": {
  "anaconda-cloud": {},
  "kernelspec": {
   "display_name": "Python 3 (ipykernel)",
   "language": "python",
   "name": "python3"
  },
  "language_info": {
   "codemirror_mode": {
    "name": "ipython",
    "version": 3
   },
   "file_extension": ".py",
   "mimetype": "text/x-python",
   "name": "python",
   "nbconvert_exporter": "python",
   "pygments_lexer": "ipython3",
   "version": "3.7.9"
  }
 },
 "nbformat": 4,
 "nbformat_minor": 2
}
