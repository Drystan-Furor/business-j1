{
 "cells": [
  {
   "cell_type": "code",
   "execution_count": 18,
   "metadata": {},
   "outputs": [],
   "source": [
    "import matplotlib.pyplot as plt\n",
    "import ipywidgets as widgets\n",
    "from ipywidgets import interact\n",
    "import numpy as np\n",
    "from numpy import arange,sin,pi"
   ]
  },
  {
   "cell_type": "markdown",
   "metadata": {},
   "source": [
    "### Base slider"
   ]
  },
  {
   "cell_type": "code",
   "execution_count": 19,
   "metadata": {},
   "outputs": [
    {
     "data": {
      "application/vnd.jupyter.widget-view+json": {
       "model_id": "a0deaa61f5164474b958a3d620ffae6c",
       "version_major": 2,
       "version_minor": 0
      },
      "text/plain": [
       "interactive(children=(IntSlider(value=10, description='x', max=30, min=-10), Output()), _dom_classes=('widget-…"
      ]
     },
     "metadata": {},
     "output_type": "display_data"
    }
   ],
   "source": [
    "# Simple interact widget from ipywidgets\n",
    "#\n",
    "def square(x):\n",
    "    return x * x\n",
    "\n",
    "\n",
    "# the semicolon ';' to suppress the output of a final function\n",
    "#\n",
    "interact(\n",
    "    square,\n",
    "    x=10\n",
    ");"
   ]
  },
  {
   "cell_type": "markdown",
   "metadata": {},
   "source": [
    "### Slider for widget control"
   ]
  },
  {
   "cell_type": "code",
   "execution_count": 20,
   "metadata": {},
   "outputs": [
    {
     "data": {
      "application/vnd.jupyter.widget-view+json": {
       "model_id": "ba3b79004ae74327b9164369dc897566",
       "version_major": 2,
       "version_minor": 0
      },
      "text/plain": [
       "interactive(children=(FloatSlider(value=7.0685834705770345, description='xmax', max=12.566370614359172, min=1.…"
      ]
     },
     "metadata": {},
     "output_type": "display_data"
    }
   ],
   "source": [
    "# Define the plot function  \n",
    "#\n",
    "def myplot(xmax): \n",
    "    x = arange(0, xmax, 0.01)\n",
    "    y = sin(2*pi*x)\n",
    "    \n",
    "    plt.plot(x,y) \n",
    "\n",
    "\n",
    "# Create an interactive widget for the plot using interact\n",
    "#\n",
    "interact(\n",
    "    myplot,\n",
    "    xmax = (pi/2,4*pi)\n",
    ");"
   ]
  },
  {
   "cell_type": "markdown",
   "metadata": {},
   "source": [
    "### Select box"
   ]
  },
  {
   "cell_type": "code",
   "execution_count": 22,
   "metadata": {},
   "outputs": [
    {
     "data": {
      "application/vnd.jupyter.widget-view+json": {
       "model_id": "f52fa29a1efc4c6a8e9fb3e2a45470d7",
       "version_major": 2,
       "version_minor": 0
      },
      "text/plain": [
       "interactive(children=(Dropdown(description='name', options=('Jim', 'Emma', 'Bond'), value='Jim'), Output()), _…"
      ]
     },
     "metadata": {},
     "output_type": "display_data"
    }
   ],
   "source": [
    "def say_my_name(name):\n",
    "    \"\"\"\n",
    "    Print the current widget value in short sentence\n",
    "    \"\"\"\n",
    "    print(f'My name is {name}')\n",
    "\n",
    "\n",
    "widgets.interact(\n",
    "    say_my_name,\n",
    "    name=[\"Jim\", \"Emma\", \"Bond\"]\n",
    ");"
   ]
  },
  {
   "cell_type": "markdown",
   "metadata": {},
   "source": [
    "### Combined widgets"
   ]
  },
  {
   "cell_type": "code",
   "execution_count": 23,
   "metadata": {},
   "outputs": [
    {
     "data": {
      "application/vnd.jupyter.widget-view+json": {
       "model_id": "a3629362875e4a7998a3c0ee70c2c226",
       "version_major": 2,
       "version_minor": 0
      },
      "text/plain": [
       "interactive(children=(Dropdown(description='x', options=(0, 1, 2, 3), value=0), Output()), _dom_classes=('widg…"
      ]
     },
     "metadata": {},
     "output_type": "display_data"
    },
    {
     "data": {
      "application/vnd.jupyter.widget-view+json": {
       "model_id": "63bd78e3538a4e4c90a700b5f3c8e8cf",
       "version_major": 2,
       "version_minor": 0
      },
      "text/plain": [
       "interactive(children=(IntSlider(value=5, description='x', max=10), Output()), _dom_classes=('widget-interact',…"
      ]
     },
     "metadata": {},
     "output_type": "display_data"
    },
    {
     "data": {
      "application/vnd.jupyter.widget-view+json": {
       "model_id": "66081ea059c04567bc4ccb5e1d6eb69b",
       "version_major": 2,
       "version_minor": 0
      },
      "text/plain": [
       "interactive(children=(FloatSlider(value=5.0, description='x', max=10.0, step=0.5), Output()), _dom_classes=('w…"
      ]
     },
     "metadata": {},
     "output_type": "display_data"
    },
    {
     "data": {
      "application/vnd.jupyter.widget-view+json": {
       "model_id": "b988f046b1de461585aaccdcca1c455c",
       "version_major": 2,
       "version_minor": 0
      },
      "text/plain": [
       "interactive(children=(Checkbox(value=True, description='x'), Output()), _dom_classes=('widget-interact',))"
      ]
     },
     "metadata": {},
     "output_type": "display_data"
    }
   ],
   "source": [
    "def say_something(x):\n",
    "    \"\"\"\n",
    "    Print the current widget value in short sentence\n",
    "    \"\"\"\n",
    "    print(f'Widget says: {x}')\n",
    "\n",
    "\n",
    "widgets.interact(say_something, x=[0, 1, 2, 3])\n",
    "widgets.interact(say_something, x=(0, 10, 1))\n",
    "widgets.interact(say_something, x=(0, 10, .5))\n",
    "\n",
    "# the variable '_' (underscore) returns the output\n",
    "# of the latest code execution\n",
    "#\n",
    "_ = widgets.interact(say_something, x=True)"
   ]
  },
  {
   "cell_type": "markdown",
   "metadata": {},
   "source": [
    "### Complex widget configs"
   ]
  },
  {
   "cell_type": "code",
   "execution_count": 27,
   "metadata": {},
   "outputs": [
    {
     "data": {
      "application/vnd.jupyter.widget-view+json": {
       "model_id": "3022fca18f514fba82cbdedada16408e",
       "version_major": 2,
       "version_minor": 0
      },
      "text/plain": [
       "VBox(children=(IntSlider(value=5, description='Slider', max=10), IntRangeSlider(value=(20, 40), description='R…"
      ]
     },
     "metadata": {},
     "output_type": "display_data"
    }
   ],
   "source": [
    "int_slider = widgets.IntSlider(\n",
    "    value=5, \n",
    "    min=0, max=10, step=1, \n",
    "    description='Slider'\n",
    ")\n",
    "\n",
    "int_range_slider = widgets.IntRangeSlider(\n",
    "    value=(20, 40), \n",
    "    min=0,\n",
    "    max=100,\n",
    "    step=2, \n",
    "    description='Range Slider'\n",
    ")\n",
    "\n",
    "dropdown = widgets.Dropdown(\n",
    "    value='Feb', \n",
    "    options=['Jan', 'Feb', 'Mar', 'Apr'], \n",
    "    description='Dropdown'\n",
    ")\n",
    "\n",
    "radiobuttons = widgets.RadioButtons(\n",
    "    value='Feb', \n",
    "    options=['Jan', 'Feb', 'Mar', 'Apr'], \n",
    "    description='Radio Buttons'\n",
    ")\n",
    "\n",
    "combobox = widgets.Combobox(\n",
    "    placeholder='start typing... (e.g. L or o)',\n",
    "    options=['Amsterdam', 'Athens', 'Lisbon', 'London', 'Ljubljana'], \n",
    "    description='Combo Box'\n",
    ")\n",
    "\n",
    "checkbox = widgets.Checkbox(\n",
    "    description='Checkbox',\n",
    "    value=True\n",
    ")\n",
    " \n",
    " \n",
    "# VBox container to pack widgets vertically\n",
    "#\n",
    "widgets.VBox([\n",
    "    int_slider, \n",
    "    int_range_slider, \n",
    "    dropdown, \n",
    "    radiobuttons,\n",
    "    checkbox,\n",
    "    combobox,\n",
    "])"
   ]
  },
  {
   "cell_type": "markdown",
   "metadata": {},
   "source": [
    "### Connected sliders"
   ]
  },
  {
   "cell_type": "code",
   "execution_count": 28,
   "metadata": {},
   "outputs": [
    {
     "data": {
      "application/vnd.jupyter.widget-view+json": {
       "model_id": "328250cb2d1c416bb090565026c9fedc",
       "version_major": 2,
       "version_minor": 0
      },
      "text/plain": [
       "VBox(children=(IntSlider(value=5, description='Slider 1', max=10), IntSlider(value=5, description='Slider 2', …"
      ]
     },
     "metadata": {},
     "output_type": "display_data"
    }
   ],
   "source": [
    "sl1 = widgets.IntSlider(\n",
    "    description='Slider 1',\n",
    "    min=0, max=10\n",
    ")\n",
    "sl2 = widgets.IntSlider(\n",
    "    description='Slider 2',\n",
    "    min=0,\n",
    "    max=10\n",
    ")\n",
    "link = widgets.link(\n",
    "    (sl1, 'value'), \n",
    "    (sl2, 'min')\n",
    ")\n",
    "\n",
    "sl1.value = 5\n",
    "widgets.VBox([\n",
    "    sl1, sl2\n",
    "])"
   ]
  }
 ],
 "metadata": {
  "kernelspec": {
   "display_name": "Python 3 (ipykernel)",
   "language": "python",
   "name": "python3"
  },
  "language_info": {
   "codemirror_mode": {
    "name": "ipython",
    "version": 3
   },
   "file_extension": ".py",
   "mimetype": "text/x-python",
   "name": "python",
   "nbconvert_exporter": "python",
   "pygments_lexer": "ipython3",
   "version": "3.7.9"
  }
 },
 "nbformat": 4,
 "nbformat_minor": 4
}
