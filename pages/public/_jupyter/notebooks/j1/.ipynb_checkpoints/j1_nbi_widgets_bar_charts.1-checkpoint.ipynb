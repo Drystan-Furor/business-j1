{
 "cells": [
  {
   "cell_type": "code",
   "execution_count": 1,
   "metadata": {},
   "outputs": [
    {
     "ename": "KeyError",
     "evalue": "'x_grid_color'",
     "output_type": "error",
     "traceback": [
      "\u001b[1;31m---------------------------------------------------------------------------\u001b[0m",
      "\u001b[1;31mKeyError\u001b[0m                                  Traceback (most recent call last)",
      "\u001b[1;32m~\\AppData\\Local\\Temp/ipykernel_5108/3108974719.py\u001b[0m in \u001b[0;36m<module>\u001b[1;34m\u001b[0m\n\u001b[0;32m      2\u001b[0m \u001b[1;32mimport\u001b[0m \u001b[0mipywidgets\u001b[0m \u001b[1;32mas\u001b[0m \u001b[0mwidgets\u001b[0m\u001b[1;33m\u001b[0m\u001b[1;33m\u001b[0m\u001b[0m\n\u001b[0;32m      3\u001b[0m \u001b[1;32mfrom\u001b[0m \u001b[0mipywidgets\u001b[0m \u001b[1;32mimport\u001b[0m \u001b[0minteract\u001b[0m\u001b[1;33m\u001b[0m\u001b[1;33m\u001b[0m\u001b[0m\n\u001b[1;32m----> 4\u001b[1;33m \u001b[1;32mimport\u001b[0m \u001b[0mnbinteract\u001b[0m \u001b[1;32mas\u001b[0m \u001b[0mnbi\u001b[0m\u001b[1;33m\u001b[0m\u001b[1;33m\u001b[0m\u001b[0m\n\u001b[0m\u001b[0;32m      5\u001b[0m \u001b[1;32mimport\u001b[0m \u001b[0mnumpy\u001b[0m \u001b[1;32mas\u001b[0m \u001b[0mnp\u001b[0m\u001b[1;33m\u001b[0m\u001b[1;33m\u001b[0m\u001b[0m\n\u001b[0;32m      6\u001b[0m \u001b[1;32mfrom\u001b[0m \u001b[0mnumpy\u001b[0m \u001b[1;32mimport\u001b[0m \u001b[0marange\u001b[0m\u001b[1;33m,\u001b[0m\u001b[0msin\u001b[0m\u001b[1;33m,\u001b[0m\u001b[0mpi\u001b[0m\u001b[1;33m\u001b[0m\u001b[1;33m\u001b[0m\u001b[0m\n",
      "\u001b[1;32md:\\j1\\github\\j1-tools\\j1-nbinteract-1.x\\nbinteract\\__init__.py\u001b[0m in \u001b[0;36m<module>\u001b[1;34m\u001b[0m\n\u001b[0;32m     11\u001b[0m \u001b[1;33m\u001b[0m\u001b[0m\n\u001b[0;32m     12\u001b[0m \u001b[1;32mfrom\u001b[0m \u001b[1;33m.\u001b[0m\u001b[0mexporters\u001b[0m \u001b[1;32mimport\u001b[0m \u001b[1;33m*\u001b[0m\u001b[1;33m\u001b[0m\u001b[1;33m\u001b[0m\u001b[0m\n\u001b[1;32m---> 13\u001b[1;33m \u001b[1;32mfrom\u001b[0m \u001b[1;33m.\u001b[0m\u001b[0mplotting\u001b[0m \u001b[1;32mimport\u001b[0m \u001b[1;33m*\u001b[0m\u001b[1;33m\u001b[0m\u001b[1;33m\u001b[0m\u001b[0m\n\u001b[0m\u001b[0;32m     14\u001b[0m \u001b[1;32mfrom\u001b[0m \u001b[1;33m.\u001b[0m\u001b[0mquestions\u001b[0m \u001b[1;32mimport\u001b[0m \u001b[1;33m*\u001b[0m\u001b[1;33m\u001b[0m\u001b[1;33m\u001b[0m\u001b[0m\n\u001b[0;32m     15\u001b[0m \u001b[1;32mfrom\u001b[0m \u001b[1;33m.\u001b[0m \u001b[1;32mimport\u001b[0m \u001b[0mutil\u001b[0m\u001b[1;33m\u001b[0m\u001b[1;33m\u001b[0m\u001b[0m\n",
      "\u001b[1;32md:\\j1\\github\\j1-tools\\j1-nbinteract-1.x\\nbinteract\\plotting.py\u001b[0m in \u001b[0;36m<module>\u001b[1;34m\u001b[0m\n\u001b[0;32m    235\u001b[0m     \u001b[1;34m'title'\u001b[0m\u001b[1;33m,\u001b[0m \u001b[1;34m'aspect_ratio'\u001b[0m\u001b[1;33m,\u001b[0m \u001b[1;34m'animation_duration'\u001b[0m\u001b[1;33m,\u001b[0m \u001b[1;34m'x_grid_color'\u001b[0m\u001b[1;33m,\u001b[0m \u001b[1;34m'y_grid_color'\u001b[0m\u001b[1;33m,\u001b[0m \u001b[1;34m'xlabel'\u001b[0m\u001b[1;33m,\u001b[0m \u001b[1;34m'ylabel'\u001b[0m\u001b[1;33m,\u001b[0m \u001b[1;34m'ylim'\u001b[0m\u001b[1;33m\u001b[0m\u001b[1;33m\u001b[0m\u001b[0m\n\u001b[0;32m    236\u001b[0m ])\n\u001b[1;32m--> 237\u001b[1;33m \u001b[1;32mdef\u001b[0m \u001b[0mbar\u001b[0m\u001b[1;33m(\u001b[0m\u001b[0mx_fn\u001b[0m\u001b[1;33m,\u001b[0m \u001b[0my_fn\u001b[0m\u001b[1;33m,\u001b[0m \u001b[1;33m*\u001b[0m\u001b[1;33m,\u001b[0m \u001b[0moptions\u001b[0m\u001b[1;33m=\u001b[0m\u001b[1;33m{\u001b[0m\u001b[1;33m}\u001b[0m\u001b[1;33m,\u001b[0m \u001b[1;33m**\u001b[0m\u001b[0minteract_params\u001b[0m\u001b[1;33m)\u001b[0m\u001b[1;33m:\u001b[0m\u001b[1;33m\u001b[0m\u001b[1;33m\u001b[0m\u001b[0m\n\u001b[0m\u001b[0;32m    238\u001b[0m     \"\"\"\n\u001b[0;32m    239\u001b[0m     \u001b[0mGenerates\u001b[0m \u001b[0man\u001b[0m \u001b[0minteractive\u001b[0m \u001b[0mbar\u001b[0m \u001b[0mchart\u001b[0m \u001b[0mthat\u001b[0m \u001b[0mallows\u001b[0m \u001b[0musers\u001b[0m \u001b[0mto\u001b[0m \u001b[0mchange\u001b[0m \u001b[0mthe\u001b[0m\u001b[1;33m\u001b[0m\u001b[1;33m\u001b[0m\u001b[0m\n",
      "\u001b[1;32md:\\j1\\github\\j1-tools\\j1-nbinteract-1.x\\nbinteract\\plotting.py\u001b[0m in \u001b[0;36mupdate_docstring\u001b[1;34m(f)\u001b[0m\n\u001b[0;32m    151\u001b[0m \u001b[1;33m\u001b[0m\u001b[0m\n\u001b[0;32m    152\u001b[0m     \u001b[1;32mdef\u001b[0m \u001b[0mupdate_docstring\u001b[0m\u001b[1;33m(\u001b[0m\u001b[0mf\u001b[0m\u001b[1;33m)\u001b[0m\u001b[1;33m:\u001b[0m\u001b[1;33m\u001b[0m\u001b[1;33m\u001b[0m\u001b[0m\n\u001b[1;32m--> 153\u001b[1;33m         \u001b[0m_update_option_docstring\u001b[0m\u001b[1;33m(\u001b[0m\u001b[0mf\u001b[0m\u001b[1;33m,\u001b[0m \u001b[0mallowed\u001b[0m\u001b[1;33m)\u001b[0m\u001b[1;33m\u001b[0m\u001b[1;33m\u001b[0m\u001b[0m\n\u001b[0m\u001b[0;32m    154\u001b[0m \u001b[1;33m\u001b[0m\u001b[0m\n\u001b[0;32m    155\u001b[0m         \u001b[1;33m@\u001b[0m\u001b[0mfunctools\u001b[0m\u001b[1;33m.\u001b[0m\u001b[0mwraps\u001b[0m\u001b[1;33m(\u001b[0m\u001b[0mf\u001b[0m\u001b[1;33m)\u001b[0m\u001b[1;33m\u001b[0m\u001b[1;33m\u001b[0m\u001b[0m\n",
      "\u001b[1;32md:\\j1\\github\\j1-tools\\j1-nbinteract-1.x\\nbinteract\\plotting.py\u001b[0m in \u001b[0;36m_update_option_docstring\u001b[1;34m(func, allowed, indent)\u001b[0m\n\u001b[0;32m    115\u001b[0m         \u001b[1;32mreturn\u001b[0m \u001b[0mfunc\u001b[0m\u001b[1;33m\u001b[0m\u001b[1;33m\u001b[0m\u001b[0m\n\u001b[0;32m    116\u001b[0m \u001b[1;33m\u001b[0m\u001b[0m\n\u001b[1;32m--> 117\u001b[1;33m     \u001b[0mdescriptions\u001b[0m \u001b[1;33m=\u001b[0m \u001b[1;33m[\u001b[0m\u001b[0moption\u001b[0m \u001b[1;33m+\u001b[0m \u001b[1;34m': '\u001b[0m \u001b[1;33m+\u001b[0m \u001b[0moption_doc\u001b[0m\u001b[1;33m[\u001b[0m\u001b[0moption\u001b[0m\u001b[1;33m]\u001b[0m \u001b[1;32mfor\u001b[0m \u001b[0moption\u001b[0m \u001b[1;32min\u001b[0m \u001b[0mallowed\u001b[0m\u001b[1;33m]\u001b[0m\u001b[1;33m\u001b[0m\u001b[1;33m\u001b[0m\u001b[0m\n\u001b[0m\u001b[0;32m    118\u001b[0m     \u001b[0mfull_desc\u001b[0m \u001b[1;33m=\u001b[0m \u001b[1;33m(\u001b[0m\u001b[1;34m'\\n'\u001b[0m \u001b[1;33m+\u001b[0m \u001b[0mindent\u001b[0m\u001b[1;33m)\u001b[0m\u001b[1;33m.\u001b[0m\u001b[0mjoin\u001b[0m\u001b[1;33m(\u001b[0m\u001b[0mdescriptions\u001b[0m\u001b[1;33m)\u001b[0m\u001b[1;33m\u001b[0m\u001b[1;33m\u001b[0m\u001b[0m\n\u001b[0;32m    119\u001b[0m     func.__doc__ = func.__doc__.format(\n",
      "\u001b[1;32md:\\j1\\github\\j1-tools\\j1-nbinteract-1.x\\nbinteract\\plotting.py\u001b[0m in \u001b[0;36m<listcomp>\u001b[1;34m(.0)\u001b[0m\n\u001b[0;32m    115\u001b[0m         \u001b[1;32mreturn\u001b[0m \u001b[0mfunc\u001b[0m\u001b[1;33m\u001b[0m\u001b[1;33m\u001b[0m\u001b[0m\n\u001b[0;32m    116\u001b[0m \u001b[1;33m\u001b[0m\u001b[0m\n\u001b[1;32m--> 117\u001b[1;33m     \u001b[0mdescriptions\u001b[0m \u001b[1;33m=\u001b[0m \u001b[1;33m[\u001b[0m\u001b[0moption\u001b[0m \u001b[1;33m+\u001b[0m \u001b[1;34m': '\u001b[0m \u001b[1;33m+\u001b[0m \u001b[0moption_doc\u001b[0m\u001b[1;33m[\u001b[0m\u001b[0moption\u001b[0m\u001b[1;33m]\u001b[0m \u001b[1;32mfor\u001b[0m \u001b[0moption\u001b[0m \u001b[1;32min\u001b[0m \u001b[0mallowed\u001b[0m\u001b[1;33m]\u001b[0m\u001b[1;33m\u001b[0m\u001b[1;33m\u001b[0m\u001b[0m\n\u001b[0m\u001b[0;32m    118\u001b[0m     \u001b[0mfull_desc\u001b[0m \u001b[1;33m=\u001b[0m \u001b[1;33m(\u001b[0m\u001b[1;34m'\\n'\u001b[0m \u001b[1;33m+\u001b[0m \u001b[0mindent\u001b[0m\u001b[1;33m)\u001b[0m\u001b[1;33m.\u001b[0m\u001b[0mjoin\u001b[0m\u001b[1;33m(\u001b[0m\u001b[0mdescriptions\u001b[0m\u001b[1;33m)\u001b[0m\u001b[1;33m\u001b[0m\u001b[1;33m\u001b[0m\u001b[0m\n\u001b[0;32m    119\u001b[0m     func.__doc__ = func.__doc__.format(\n",
      "\u001b[1;31mKeyError\u001b[0m: 'x_grid_color'"
     ]
    }
   ],
   "source": [
    "import matplotlib.pyplot as plt\n",
    "import ipywidgets as widgets\n",
    "from ipywidgets import interact\n",
    "import nbinteract as nbi\n",
    "import numpy as np\n",
    "from numpy import arange,sin,pi"
   ]
  },
  {
   "cell_type": "markdown",
   "metadata": {},
   "source": [
    "### `nbinteract.hist`\n",
    "\n",
    "The  widget hist generates a histogram that allows interaction with the parameters for the response function. The widget takes in a single response function. The response function returns the array of numerical values that will be shown in the histogram. The hist function allows interaction with the response function's parameters by specifying them as keyword arguments in the same format as ipywidgets.interact. Any argument that can be used for ipywidgets.interact can be used for hist.\n"
   ]
  },
  {
   "cell_type": "code",
   "execution_count": null,
   "metadata": {},
   "outputs": [],
   "source": [
    "def hist_response_function(mean, sd, size=1000):\n",
    "    '''\n",
    "    Returns 1000 values picked at random from the normal\n",
    "    distribution with the mean and SD given.\n",
    "    '''\n",
    "    return np.random.normal(loc=mean, scale=sd, size=1000)\n",
    "\n",
    "nbi.hist(hist_response_function, mean=(0, 10), sd=(0.2, 2.0, 0.2))"
   ]
  },
  {
   "cell_type": "markdown",
   "metadata": {},
   "source": [
    "### `nbinteract.bar`\n",
    "\n",
    "The widgetr bar generates an bar plot that allows interaction with the parameters for the response functions.\n",
    "\n",
    "The first two arguments of bar are response functions that return the x and y-axis data arrays, respectively. Either argument can be arrays themselves. Arguments for the response functions must be passed in as keyword arguments to bar in the format expected by interact. The response function for the y-axis data will be called with the x-axis data as its first argument.\n",
    "\n",
    "For example, in the bar plot below categories generates the categories to plot on the x-axis and heights generates the y-axis heights. The heights function uses the parameter xs which is the array of x-axis data points."
   ]
  },
  {
   "cell_type": "code",
   "execution_count": null,
   "metadata": {},
   "outputs": [],
   "source": [
    "def categories(n): \n",
    "    return np.arange(n)\n",
    "\n",
    "def heights(xs, offset):\n",
    "    return xs + offset\n",
    "\n",
    "opts = {\n",
    "    'ylim': (0, 20),\n",
    "    'title': \"Barchart\",\n",
    "    'xlabel': \"Bars (n)\",\n",
    "    'ylabel': \"offset\",\n",
    "    'x_grid_color': 'gray',\n",
    "    'y_grid_color': 'blue',\n",
    "    'aspect_ratio': 6.0,\n",
    "    'animation_duration': 2000,\n",
    "}\n",
    "\n",
    "# set the grid lines of axes to dashed\n",
    "#xax, yax = plt.axes()['x'], plt.axes()['y']\n",
    "\n",
    "#xax.grid_lines = 'dashed'\n",
    "#yax.grid_lines = 'solid'\n",
    "\n",
    "#xax.grid_color = 'gray'\n",
    "#yax.grid_color = 'gray'\n",
    "\n",
    "\n",
    "bar_chart = nbi.bar(categories, heights, n=(3, 10), offset=(5, 15), options=opts)\n",
    "# print(\"NBI Dataset: \", bar_chart)\n",
    "# print(\"NBI Figure: \", bar_chart.children[1])\n",
    "# print(\"NBI animation_duration: \", bar_chart.children[1].animation_duration)\n",
    "# print(\"NBI marks: \", bar_chart.children[1].marks[0])\n",
    "bar_chart.colors = [\"tomato\"]\n",
    "\n",
    "bar_chart.children[1].animation_duration = 50\n",
    "bar_chart"
   ]
  },
  {
   "cell_type": "code",
   "execution_count": null,
   "metadata": {},
   "outputs": [],
   "source": [
    "import bqplot as bqp\n",
    "from bqplot import pyplot as plt\n",
    "\n",
    "import pandas as pd\n",
    "import numpy as np\n",
    "\n",
    "from sklearn.datasets import load_wine\n",
    "wine  = load_wine()\n",
    "\n",
    "# print(\"Dataset Features : \", wine.feature_names)\n",
    "# print(\"Dataset Size : \", wine.data.shape)\n",
    "\n",
    "wine_df = pd.DataFrame(data=wine.data, columns=wine.feature_names)\n",
    "wine_df[\"Category\"] = wine.target\n",
    "\n",
    "# wine_df.head()"
   ]
  },
  {
   "cell_type": "code",
   "execution_count": null,
   "metadata": {},
   "outputs": [],
   "source": [
    "avg_wine_df = wine_df.groupby(by=\"Category\").mean()\n",
    "\n",
    "fig = plt.figure(title=\"Average Magnesium Per Wine Category\")\n",
    "\n",
    "fig.layout.height = \"480px\"\n",
    "fig.layout.width = \"800px\"\n",
    "\n",
    "bar_chart  = plt.bar(x = avg_wine_df.index, y= avg_wine_df[\"magnesium\"])\n",
    "\n",
    "bar_chart.colors = [\"tomato\"]\n",
    "# bar_chart.tooltip = Tooltip(fields=[\"x\", \"y\"], labels=[\"Wine Category\", \"Avg Magnesium\"])\n",
    "\n",
    "plt.xlabel(\"Wine Category\")\n",
    "plt.ylabel(\"Average Magnesium\")\n",
    "\n",
    "# set the grid lines of axes to dashed\n",
    "xax, yax = plt.axes()['x'], plt.axes()['y']\n",
    "\n",
    "xax.grid_lines = 'dashed'\n",
    "yax.grid_lines = 'solid'\n",
    "\n",
    "xax.grid_color = 'gray'\n",
    "yax.grid_color = 'gray'\n",
    "\n",
    "plt.show()"
   ]
  },
  {
   "cell_type": "code",
   "execution_count": null,
   "metadata": {},
   "outputs": [],
   "source": [
    "import numpy as np\n",
    "from IPython.display import display\n",
    "from bqplot import *\n",
    "\n",
    "np.random.seed(0)\n",
    "size = 100\n",
    "x_data = range(size)\n",
    "y_data = np.cumsum(np.random.randn(size) * 100.0)\n",
    "y_data_2 = np.cumsum(np.random.randn(size))\n",
    "\n",
    "y_sc = LinearScale()\n",
    "\n",
    "ax_x = Axis(label='Test X', scale=y_sc, grid_lines='solid')\n",
    "ax_y = Axis(label='Test Y', scale=y_sc, orientation='vertical', tick_format='0.2f', grid_lines='solid')\n",
    "\n",
    "line = Lines(x=y_data_2, y=y_data_2,\n",
    "             scales={'x': y_sc, 'y': y_sc}, colors=['hotpink', 'orange'])\n",
    "\n",
    "m_fig = dict(left=100, top=50, bottom=50, right=100)\n",
    "fig = Figure(axes=[ax_x, ax_y], marks=[line], fig_margin=m_fig)\n"
   ]
  },
  {
   "cell_type": "code",
   "execution_count": null,
   "metadata": {},
   "outputs": [],
   "source": [
    "# Displaying Grid Lines for the axis\n",
    "#\n",
    "ax_x.grid_lines = 'solid'\n",
    "ax_y.grid_lines = 'dashed'\n",
    "\n",
    "# Change the grid colors\n",
    "#\n",
    "ax_x.grid_color = 'gray'\n",
    "ax_y.grid_color = 'gray'"
   ]
  },
  {
   "cell_type": "code",
   "execution_count": null,
   "metadata": {},
   "outputs": [],
   "source": [
    "display(fig)"
   ]
  },
  {
   "cell_type": "code",
   "execution_count": null,
   "metadata": {},
   "outputs": [],
   "source": []
  }
 ],
 "metadata": {
  "kernelspec": {
   "display_name": "Python 3 (ipykernel)",
   "language": "python",
   "name": "python3"
  },
  "language_info": {
   "codemirror_mode": {
    "name": "ipython",
    "version": 3
   },
   "file_extension": ".py",
   "mimetype": "text/x-python",
   "name": "python",
   "nbconvert_exporter": "python",
   "pygments_lexer": "ipython3",
   "version": "3.7.9"
  }
 },
 "nbformat": 4,
 "nbformat_minor": 4
}
