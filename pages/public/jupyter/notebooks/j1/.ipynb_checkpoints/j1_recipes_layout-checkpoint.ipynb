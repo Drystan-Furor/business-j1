{
 "cells": [
  {
   "cell_type": "code",
   "execution_count": 1,
   "metadata": {},
   "outputs": [],
   "source": [
    "# nbi:hide_in\n",
    "import warnings\n",
    "# Ignore numpy dtype warnings. These warnings are caused by an interaction\n",
    "# between numpy and Cython and can be safely ignored.\n",
    "# Reference: https://stackoverflow.com/a/40846742\n",
    "warnings.filterwarnings(\"ignore\", message=\"numpy.dtype size changed\")\n",
    "warnings.filterwarnings(\"ignore\", message=\"numpy.ufunc size changed\")\n",
    "\n",
    "import numpy as np\n",
    "import matplotlib.pyplot as plt\n",
    "import pandas as pd\n",
    "%matplotlib inline\n",
    "import ipywidgets as widgets\n",
    "from ipywidgets import interact, interactive, fixed, interact_manual\n",
    "import nbinteract as nbi\n",
    "\n",
    "np.set_printoptions(threshold=20, precision=2, suppress=True)\n",
    "pd.options.display.max_rows = 7\n",
    "pd.options.display.max_columns = 8\n",
    "pd.set_option('precision', 2)\n",
    "# This option stops scientific notation for pandas\n",
    "# pd.set_option('display.float_format', '{:.2f}'.format)"
   ]
  },
  {
   "cell_type": "code",
   "execution_count": 2,
   "metadata": {},
   "outputs": [],
   "source": [
    "# nbi:hide_in\n",
    "def df_interact(df, nrows=7, ncols=7):\n",
    "    '''\n",
    "    Outputs sliders that show rows and columns of df\n",
    "    '''\n",
    "    def peek(row=0, col=0):\n",
    "        return df.iloc[row:row + nrows, col:col + ncols]\n",
    "    if len(df.columns) <= ncols:\n",
    "        interact(peek, row=(0, len(df) - nrows, nrows), col=fixed(0))\n",
    "    else:\n",
    "        interact(peek,\n",
    "                 row=(0, len(df) - nrows, nrows),\n",
    "                 col=(0, len(df.columns) - ncols))\n",
    "    print('({} rows, {} columns) total'.format(df.shape[0], df.shape[1]))"
   ]
  },
  {
   "cell_type": "code",
   "execution_count": 3,
   "metadata": {},
   "outputs": [],
   "source": [
    "# nbi:hide_in\n",
    "videos = pd.read_csv('https://github.com/SamLau95/nbinteract/raw/master/notebooks/youtube_trending.csv',\n",
    "                     parse_dates=['publish_time'],\n",
    "                     index_col='publish_time')"
   ]
  },
  {
   "cell_type": "markdown",
   "metadata": {},
   "source": [
    "### Page Layout and Dashboarding\n",
    "`nbinteract` gives basic page layout functionality using special comments in your code. Include one or more of these markers in a Python comment and `nbinteract` will add their corresponding CSS classes to the generated cells.\n",
    "\n",
    "| Marker | Description | CSS class added |\n",
    "| --------- | --------- | --------- |\n",
    "| `nbi:left` | Floats cell to the left | `nbinteract-left` |\n",
    "| `nbi:right` | Floats cell to the right | `nbinteract-right` |\n",
    "| `nbi:hide_in` | Hides cell input | `nbinteract-hide_in` |\n",
    "| `nbi:hide_out` | Hides cell output | `nbinteract-hide_out` |\n",
    "\n",
    "By default, only the `full` template will automatically provide styling for these classes. For other templates, `nbinteract` assumes that the embedding page will use the CSS classes to style the cells.\n",
    "\n",
    "You can use the layout markers to create simple dashboards. In this page, we create a dashboard using a dataset of trending videos on YouTube. We first create a dashboard showing the code used to generate the plots. Further down the page, we replicate the dashboard without showing the code."
   ]
  },
  {
   "cell_type": "code",
   "execution_count": 4,
   "metadata": {},
   "outputs": [
    {
     "data": {
      "application/vnd.jupyter.widget-view+json": {
       "model_id": "e0125ef8a64f48d68c4f459623f3be93",
       "version_major": 2,
       "version_minor": 0
      },
      "text/plain": [
       "interactive(children=(IntSlider(value=0, description='row', max=2428, step=7), IntSlider(value=0, description=…"
      ]
     },
     "metadata": {},
     "output_type": "display_data"
    },
    {
     "name": "stdout",
     "output_type": "stream",
     "text": [
      "(2435 rows, 8 columns) total\n"
     ]
    }
   ],
   "source": [
    "df_interact(videos)"
   ]
  },
  {
   "cell_type": "code",
   "execution_count": 5,
   "metadata": {},
   "outputs": [
    {
     "data": {
      "application/vnd.jupyter.widget-view+json": {
       "model_id": "29a0ed22c7494de7a593d3399c7135a1",
       "version_major": 2,
       "version_minor": 0
      },
      "text/plain": [
       "VBox(children=(interactive(children=(Dropdown(description='channel', options=('The View', 'CBS This Morning', …"
      ]
     },
     "metadata": {},
     "output_type": "display_data"
    }
   ],
   "source": [
    "# nbi:left\n",
    "options = {\n",
    "    'title': 'Views for Trending Videos',\n",
    "    'xlabel': 'Date Trending',\n",
    "    'ylabel': 'Views',\n",
    "    'animation_duration': 500,\n",
    "    'aspect_ratio': 1.0,\n",
    "}\n",
    "\n",
    "def xs(channel):\n",
    "    return videos.loc[videos['channel_title'] == channel].index\n",
    "\n",
    "def ys(xs):\n",
    "    return videos.loc[xs, 'views']\n",
    "\n",
    "nbi.scatter(xs, ys,\n",
    "            channel=videos['channel_title'].unique()[9:15],\n",
    "            options=options)"
   ]
  },
  {
   "cell_type": "code",
   "execution_count": 6,
   "metadata": {},
   "outputs": [
    {
     "data": {
      "application/vnd.jupyter.widget-view+json": {
       "model_id": "534e4ac50eeb4e0fbc11b905c5cb541f",
       "version_major": 2,
       "version_minor": 0
      },
      "text/plain": [
       "VBox(children=(interactive(children=(ToggleButtons(description='col', options=('views', 'likes', 'dislikes', '…"
      ]
     },
     "metadata": {},
     "output_type": "display_data"
    }
   ],
   "source": [
    "# nbi:right\n",
    "options={\n",
    "    'ylabel': 'Proportion per Unit',\n",
    "    'bins': 100,\n",
    "    'aspect_ratio': 1.0,\n",
    "}\n",
    "\n",
    "\n",
    "def values(col):\n",
    "    vals = videos[col]\n",
    "    return vals[vals < vals.quantile(0.8)]\n",
    "\n",
    "nbi.hist(values, col=widgets.ToggleButtons(options=['views', 'likes', 'dislikes', 'comment_count']), options=options)"
   ]
  },
  {
   "cell_type": "markdown",
   "metadata": {},
   "source": [
    " "
   ]
  },
  {
   "cell_type": "markdown",
   "metadata": {},
   "source": [
    "#### Dashboard (without showing code)"
   ]
  },
  {
   "cell_type": "code",
   "execution_count": 7,
   "metadata": {},
   "outputs": [
    {
     "data": {
      "application/vnd.jupyter.widget-view+json": {
       "model_id": "d780bd58810c4f03a20c29b6220b7924",
       "version_major": 2,
       "version_minor": 0
      },
      "text/plain": [
       "interactive(children=(IntSlider(value=0, description='row', max=2428, step=7), IntSlider(value=0, description=…"
      ]
     },
     "metadata": {},
     "output_type": "display_data"
    },
    {
     "name": "stdout",
     "output_type": "stream",
     "text": [
      "(2435 rows, 8 columns) total\n"
     ]
    }
   ],
   "source": [
    "# nbi:hide_in\n",
    "df_interact(videos)"
   ]
  },
  {
   "cell_type": "code",
   "execution_count": 8,
   "metadata": {},
   "outputs": [
    {
     "data": {
      "application/vnd.jupyter.widget-view+json": {
       "model_id": "031a7cdc657249949261954d56569292",
       "version_major": 2,
       "version_minor": 0
      },
      "text/plain": [
       "VBox(children=(interactive(children=(Dropdown(description='channel', options=('The View', 'CBS This Morning', …"
      ]
     },
     "metadata": {},
     "output_type": "display_data"
    }
   ],
   "source": [
    "# nbi:hide_in\n",
    "# nbi:left\n",
    "options = {\n",
    "    'title': 'Views for Trending Videos',\n",
    "    'xlabel': 'Date Trending',\n",
    "    'ylabel': 'Views',\n",
    "    'animation_duration': 500,\n",
    "    'aspect_ratio': 1.0,\n",
    "}\n",
    "\n",
    "def xs(channel):\n",
    "    return videos.loc[videos['channel_title'] == channel].index\n",
    "\n",
    "def ys(xs):\n",
    "    return videos.loc[xs, 'views']\n",
    "\n",
    "nbi.scatter(xs, ys,\n",
    "            channel=videos['channel_title'].unique()[9:15],\n",
    "            options=options)"
   ]
  },
  {
   "cell_type": "code",
   "execution_count": 9,
   "metadata": {},
   "outputs": [
    {
     "data": {
      "application/vnd.jupyter.widget-view+json": {
       "model_id": "b947b2cbb59d456fb44049b4e132df1d",
       "version_major": 2,
       "version_minor": 0
      },
      "text/plain": [
       "VBox(children=(interactive(children=(ToggleButtons(description='col', options=('views', 'likes', 'dislikes', '…"
      ]
     },
     "metadata": {},
     "output_type": "display_data"
    }
   ],
   "source": [
    "# nbi:hide_in\n",
    "# nbi:right\n",
    "options={\n",
    "    'ylabel': 'Proportion per Unit',\n",
    "    'bins': 100,\n",
    "    'aspect_ratio': 1.0,\n",
    "}\n",
    "\n",
    "\n",
    "def values(col):\n",
    "    vals = videos[col]\n",
    "    return vals[vals < vals.quantile(0.8)]\n",
    "\n",
    "nbi.hist(values, col=widgets.ToggleButtons(options=['views', 'likes', 'dislikes', 'comment_count']), options=options)"
   ]
  }
 ],
 "metadata": {
  "kernelspec": {
   "display_name": "Python 3",
   "language": "python",
   "name": "python3"
  },
  "language_info": {
   "codemirror_mode": {
    "name": "ipython",
    "version": 3
   },
   "file_extension": ".py",
   "mimetype": "text/x-python",
   "name": "python",
   "nbconvert_exporter": "python",
   "pygments_lexer": "ipython3",
   "version": "3.7.9"
  }
 },
 "nbformat": 4,
 "nbformat_minor": 2
}
