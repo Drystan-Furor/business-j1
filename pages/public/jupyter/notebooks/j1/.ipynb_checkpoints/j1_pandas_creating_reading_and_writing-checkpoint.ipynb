{
 "cells": [
  {
   "cell_type": "code",
   "execution_count": 1,
   "id": "d4137d7a",
   "metadata": {
    "execution": {
     "iopub.execute_input": "2022-02-08T16:44:11.776774Z",
     "iopub.status.busy": "2022-02-08T16:44:11.775483Z",
     "iopub.status.idle": "2022-02-08T16:44:11.784138Z",
     "shell.execute_reply": "2022-02-08T16:44:11.784541Z"
    },
    "papermill": {
     "duration": 0.023901,
     "end_time": "2022-02-08T16:44:11.784806",
     "exception": false,
     "start_time": "2022-02-08T16:44:11.760905",
     "status": "completed"
    },
    "tags": []
   },
   "outputs": [],
   "source": [
    "import warnings\n",
    "# Ignore numpy dtype warnings. These warnings are caused by an interaction\n",
    "# between numpy and Cython and can be safely ignored.\n",
    "# Reference: https://stackoverflow.com/a/40846742\n",
    "warnings.filterwarnings(\"ignore\", message=\"numpy.dtype size changed\")\n",
    "warnings.filterwarnings(\"ignore\", message=\"numpy.ufunc size changed\")\n",
    "\n",
    "import numpy as np\n",
    "import matplotlib.pyplot as plt\n",
    "import pandas as pd\n",
    "%matplotlib inline\n",
    "import ipywidgets as widgets\n",
    "from ipywidgets import interact, interactive, fixed, interact_manual\n",
    "import nbinteract as nbi\n",
    "\n",
    "np.set_printoptions(threshold=20, precision=2, suppress=True)\n",
    "pd.options.display.max_rows = 7\n",
    "pd.options.display.max_columns = 8\n",
    "pd.set_option('precision', 2)\n",
    "# This option stops scientific notation for pandas\n",
    "# pd.set_option('display.float_format', '{:.2f}'.format)"
   ]
  },
  {
   "cell_type": "code",
   "execution_count": 2,
   "metadata": {},
   "outputs": [],
   "source": [
    "def df_interact(df, nrows=7, ncols=7):\n",
    "    '''\n",
    "    Outputs sliders that show rows and columns of df\n",
    "    '''\n",
    "    def peek(row=0, col=0):\n",
    "        return df.iloc[row:row + nrows, col:col + ncols]\n",
    "    if len(df.columns) <= ncols:\n",
    "        interact(peek, row=(0, len(df) - nrows, nrows), col=fixed(0))\n",
    "    else:\n",
    "        interact(peek,\n",
    "                 row=(0, len(df) - nrows, nrows),\n",
    "                 col=(0, len(df.columns) - ncols))\n",
    "    print('({} rows, {} columns) total'.format(df.shape[0], df.shape[1]))"
   ]
  },
  {
   "cell_type": "code",
   "execution_count": 3,
   "metadata": {},
   "outputs": [],
   "source": [
    "videos = pd.read_csv('https://github.com/SamLau95/nbinteract/raw/master/notebooks/youtube_trending.csv',\n",
    "                     parse_dates=['publish_time'],\n",
    "                     index_col='publish_time')"
   ]
  },
  {
   "cell_type": "code",
   "execution_count": 4,
   "metadata": {},
   "outputs": [
    {
     "data": {
      "text/html": [
       "<div>\n",
       "<style scoped>\n",
       "    .dataframe tbody tr th:only-of-type {\n",
       "        vertical-align: middle;\n",
       "    }\n",
       "\n",
       "    .dataframe tbody tr th {\n",
       "        vertical-align: top;\n",
       "    }\n",
       "\n",
       "    .dataframe thead th {\n",
       "        text-align: right;\n",
       "    }\n",
       "</style>\n",
       "<table border=\"1\" class=\"dataframe\">\n",
       "  <thead>\n",
       "    <tr style=\"text-align: right;\">\n",
       "      <th></th>\n",
       "      <th>title</th>\n",
       "      <th>channel_title</th>\n",
       "      <th>category_id</th>\n",
       "      <th>views</th>\n",
       "      <th>likes</th>\n",
       "      <th>dislikes</th>\n",
       "      <th>comment_count</th>\n",
       "      <th>category</th>\n",
       "    </tr>\n",
       "    <tr>\n",
       "      <th>publish_time</th>\n",
       "      <th></th>\n",
       "      <th></th>\n",
       "      <th></th>\n",
       "      <th></th>\n",
       "      <th></th>\n",
       "      <th></th>\n",
       "      <th></th>\n",
       "      <th></th>\n",
       "    </tr>\n",
       "  </thead>\n",
       "  <tbody>\n",
       "    <tr>\n",
       "      <th>2011-05-22 23:50:01</th>\n",
       "      <td>U.S. v. Whistleblower Tom Drake</td>\n",
       "      <td>CBS News</td>\n",
       "      <td>25</td>\n",
       "      <td>33797</td>\n",
       "      <td>311</td>\n",
       "      <td>36</td>\n",
       "      <td>146</td>\n",
       "      <td>News &amp; Politics</td>\n",
       "    </tr>\n",
       "    <tr>\n",
       "      <th>2017-11-10 13:00:02</th>\n",
       "      <td>Tesla's biggest problem is one nobody saw coming</td>\n",
       "      <td>Business Insider</td>\n",
       "      <td>25</td>\n",
       "      <td>125970</td>\n",
       "      <td>935</td>\n",
       "      <td>507</td>\n",
       "      <td>262</td>\n",
       "      <td>News &amp; Politics</td>\n",
       "    </tr>\n",
       "    <tr>\n",
       "      <th>2017-11-12 20:26:46</th>\n",
       "      <td>Some NFL players call for an end to Thursday n...</td>\n",
       "      <td>ABC News</td>\n",
       "      <td>25</td>\n",
       "      <td>7524</td>\n",
       "      <td>67</td>\n",
       "      <td>19</td>\n",
       "      <td>56</td>\n",
       "      <td>News &amp; Politics</td>\n",
       "    </tr>\n",
       "    <tr>\n",
       "      <th>2017-11-12 21:16:40</th>\n",
       "      <td>Iraq-Iran earthquake: Deadly tremor hits borde...</td>\n",
       "      <td>BBC News</td>\n",
       "      <td>25</td>\n",
       "      <td>34785</td>\n",
       "      <td>308</td>\n",
       "      <td>26</td>\n",
       "      <td>413</td>\n",
       "      <td>News &amp; Politics</td>\n",
       "    </tr>\n",
       "    <tr>\n",
       "      <th>2017-11-13 13:45:16</th>\n",
       "      <td>Why the rise of the robots won’t mean the end ...</td>\n",
       "      <td>Vox</td>\n",
       "      <td>25</td>\n",
       "      <td>256426</td>\n",
       "      <td>12654</td>\n",
       "      <td>1363</td>\n",
       "      <td>2368</td>\n",
       "      <td>News &amp; Politics</td>\n",
       "    </tr>\n",
       "  </tbody>\n",
       "</table>\n",
       "</div>"
      ],
      "text/plain": [
       "                                                                 title  \\\n",
       "publish_time                                                             \n",
       "2011-05-22 23:50:01                    U.S. v. Whistleblower Tom Drake   \n",
       "2017-11-10 13:00:02   Tesla's biggest problem is one nobody saw coming   \n",
       "2017-11-12 20:26:46  Some NFL players call for an end to Thursday n...   \n",
       "2017-11-12 21:16:40  Iraq-Iran earthquake: Deadly tremor hits borde...   \n",
       "2017-11-13 13:45:16  Why the rise of the robots won’t mean the end ...   \n",
       "\n",
       "                        channel_title  category_id   views  likes  dislikes  \\\n",
       "publish_time                                                                  \n",
       "2011-05-22 23:50:01          CBS News           25   33797    311        36   \n",
       "2017-11-10 13:00:02  Business Insider           25  125970    935       507   \n",
       "2017-11-12 20:26:46          ABC News           25    7524     67        19   \n",
       "2017-11-12 21:16:40          BBC News           25   34785    308        26   \n",
       "2017-11-13 13:45:16               Vox           25  256426  12654      1363   \n",
       "\n",
       "                     comment_count         category  \n",
       "publish_time                                         \n",
       "2011-05-22 23:50:01            146  News & Politics  \n",
       "2017-11-10 13:00:02            262  News & Politics  \n",
       "2017-11-12 20:26:46             56  News & Politics  \n",
       "2017-11-12 21:16:40            413  News & Politics  \n",
       "2017-11-13 13:45:16           2368  News & Politics  "
      ]
     },
     "execution_count": 4,
     "metadata": {},
     "output_type": "execute_result"
    }
   ],
   "source": [
    "videos.head()"
   ]
  },
  {
   "cell_type": "code",
   "execution_count": 5,
   "metadata": {},
   "outputs": [
    {
     "data": {
      "application/vnd.jupyter.widget-view+json": {
       "model_id": "4d1ed5d14df44836a3de89a5fb8bec2a",
       "version_major": 2,
       "version_minor": 0
      },
      "text/plain": [
       "interactive(children=(IntSlider(value=0, description='row', max=2428, step=7), IntSlider(value=0, description=…"
      ]
     },
     "metadata": {},
     "output_type": "display_data"
    },
    {
     "name": "stdout",
     "output_type": "stream",
     "text": [
      "(2435 rows, 8 columns) total\n"
     ]
    }
   ],
   "source": [
    "df_interact(videos)"
   ]
  },
  {
   "cell_type": "code",
   "execution_count": 6,
   "metadata": {},
   "outputs": [],
   "source": [
    "wine_reviews = pd.read_csv(\"https://github.com/jekyll-one/nbinteract-notebooks/raw/main/data/winemag-data-130k-v2.csv.zip\")\n",
    "my_review = wine_reviews.head(100)"
   ]
  },
  {
   "cell_type": "code",
   "execution_count": 7,
   "metadata": {},
   "outputs": [
    {
     "data": {
      "application/vnd.jupyter.widget-view+json": {
       "model_id": "bac533541b77479d86bf972294df6d38",
       "version_major": 2,
       "version_minor": 0
      },
      "text/plain": [
       "interactive(children=(IntSlider(value=0, description='row', max=93, step=7), IntSlider(value=0, description='c…"
      ]
     },
     "metadata": {},
     "output_type": "display_data"
    },
    {
     "name": "stdout",
     "output_type": "stream",
     "text": [
      "(100 rows, 14 columns) total\n"
     ]
    }
   ],
   "source": [
    "df_interact(my_review)"
   ]
  }
 ],
 "metadata": {
  "kernelspec": {
   "display_name": "Python 3",
   "language": "python",
   "name": "python3"
  },
  "language_info": {
   "codemirror_mode": {
    "name": "ipython",
    "version": 3
   },
   "file_extension": ".py",
   "mimetype": "text/x-python",
   "name": "python",
   "nbconvert_exporter": "python",
   "pygments_lexer": "ipython3",
   "version": "3.7.9"
  },
  "papermill": {
   "default_parameters": {},
   "duration": 12.263247,
   "end_time": "2022-02-08T16:44:15.771485",
   "environment_variables": {},
   "exception": null,
   "input_path": "__notebook__.ipynb",
   "output_path": "__notebook__.ipynb",
   "parameters": {},
   "start_time": "2022-02-08T16:44:03.508238",
   "version": "2.3.3"
  }
 },
 "nbformat": 4,
 "nbformat_minor": 5
}
